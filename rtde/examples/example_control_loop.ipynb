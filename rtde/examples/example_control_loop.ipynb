{
 "cells": [
  {
   "cell_type": "code",
   "execution_count": 1,
   "metadata": {},
   "outputs": [],
   "source": [
    "#!/usr/bin/env python\n",
    "# Copyright (c) 2016, Universal Robots A/S,\n",
    "# All rights reserved.\n",
    "# Redistribution and use in source and binary forms, with or without\n",
    "# modification, are permitted provided that the following conditions are met:\n",
    "#    * Redistributions of source code must retain the above copyright\n",
    "#      notice, this list of conditions and the following disclaimer.\n",
    "#    * Redistributions in binary form must reproduce the above copyright\n",
    "#      notice, this list of conditions and the following disclaimer in the\n",
    "#      documentation and/or other materials provided with the distribution.\n",
    "#    * Neither the name of the Universal Robots A/S nor the names of its\n",
    "#      contributors may be used to endorse or promote products derived\n",
    "#      from this software without specific prior written permission.\n",
    "# THIS SOFTWARE IS PROVIDED BY THE COPYRIGHT HOLDERS AND CONTRIBUTORS \"AS IS\" AND\n",
    "# ANY EXPRESS OR IMPLIED WARRANTIES, INCLUDING, BUT NOT LIMITED TO, THE IMPLIED\n",
    "# WARRANTIES OF MERCHANTABILITY AND FITNESS FOR A PARTICULAR PURPOSE ARE\n",
    "# DISCLAIMED. IN NO EVENT SHALL UNIVERSAL ROBOTS A/S BE LIABLE FOR ANY\n",
    "# DIRECT, INDIRECT, INCIDENTAL, SPECIAL, EXEMPLARY, OR CONSEQUENTIAL DAMAGES\n",
    "# (INCLUDING, BUT NOT LIMITED TO, PROCUREMENT OF SUBSTITUTE GOODS OR SERVICES;\n",
    "# LOSS OF USE, DATA, OR PROFITS; OR BUSINESS INTERRUPTION) HOWEVER CAUSED AND\n",
    "# ON ANY THEORY OF LIABILITY, WHETHER IN CONTRACT, STRICT LIABILITY, OR TORT\n",
    "# (INCLUDING NEGLIGENCE OR OTHERWISE) ARISING IN ANY WAY OUT OF THE USE OF THIS\n",
    "# SOFTWARE, EVEN IF ADVISED OF THE POSSIBILITY OF SUCH DAMAGE.\n",
    "\n",
    "import sys\n",
    "sys.path.append('..')\n",
    "import logging\n",
    "\n",
    "import rtde.rtde as rtde\n",
    "import rtde.rtde_config as rtde_config\n"
   ]
  },
  {
   "cell_type": "code",
   "execution_count": 2,
   "metadata": {},
   "outputs": [],
   "source": [
    "#logging.basicConfig(level=logging.INFO)\n",
    "\n",
    "ROBOT_HOST = '192.168.188.123'\n",
    "ROBOT_PORT = 30004\n",
    "config_filename = 'control_loop_configuration.xml'\n",
    "\n",
    "keep_running = True\n",
    "logging.getLogger().setLevel(logging.INFO)"
   ]
  },
  {
   "cell_type": "code",
   "execution_count": 3,
   "metadata": {},
   "outputs": [],
   "source": [
    "conf = rtde_config.ConfigFile(config_filename)\n",
    "state_names, state_types = conf.get_recipe('state')\n",
    "setp_names, setp_types = conf.get_recipe('setp')\n",
    "watchdog_names, watchdog_types = conf.get_recipe('watchdog')"
   ]
  },
  {
   "cell_type": "code",
   "execution_count": 4,
   "metadata": {},
   "outputs": [
    {
     "name": "stderr",
     "output_type": "stream",
     "text": [
      "INFO:root:Controller version: 3.4.3.386\n"
     ]
    }
   ],
   "source": [
    "con = rtde.RTDE(ROBOT_HOST, ROBOT_PORT)\n",
    "con.connect()\n",
    "\n",
    "# get controller version\n",
    "con.get_controller_version()\n",
    "\n",
    "# setup recipes\n",
    "con.send_output_setup(state_names, state_types)\n",
    "setp = con.send_input_setup(setp_names, setp_types)\n",
    "watchdog = con.send_input_setup(watchdog_names, watchdog_types)"
   ]
  },
  {
   "cell_type": "code",
   "execution_count": 5,
   "metadata": {},
   "outputs": [],
   "source": [
    "# Setpoints to move the robot to\n",
    "setp1 = [0.79, -0.51, 0.97, 0.57, -2.16, 1.68]\n",
    "setp2 = [0.32, -0.41, 1.02, -0.02, 2.23, -2.1]\n",
    "\n",
    "setp.input_double_register_0 = 0\n",
    "setp.input_double_register_1 = 0\n",
    "setp.input_double_register_2 = 0\n",
    "setp.input_double_register_3 = 0\n",
    "setp.input_double_register_4 = 0\n",
    "setp.input_double_register_5 = 0\n",
    "  \n",
    "# The function \"rtde_set_watchdog\" in the \"rtde_control_loop.urp\" creates a 1 Hz watchdog\n",
    "watchdog.input_int_register_0 = 0"
   ]
  },
  {
   "cell_type": "code",
   "execution_count": 6,
   "metadata": {},
   "outputs": [],
   "source": [
    "def setp_to_list(setp):\n",
    "    list = []\n",
    "    for i in range(0,6):\n",
    "        list.append(setp.__dict__[\"input_double_register_%i\" % i])\n",
    "    return list\n",
    "\n",
    "def list_to_setp(setp, list):\n",
    "    for i in range (0,6):\n",
    "        setp.__dict__[\"input_double_register_%i\" % i] = list[i]\n",
    "    return setp"
   ]
  },
  {
   "cell_type": "code",
   "execution_count": 7,
   "metadata": {},
   "outputs": [
    {
     "name": "stderr",
     "output_type": "stream",
     "text": [
      "INFO:root:RTDE synchronization started\n",
      "INFO:root:RTDE disconnected\n"
     ]
    }
   ],
   "source": [
    "#start data synchronization\n",
    "if not con.send_start():\n",
    "    sys.exit()\n",
    "\n",
    "# control loop\n",
    "while keep_running:\n",
    "    # receive the current state\n",
    "    state = con.receive()\n",
    "    \n",
    "    if state is None:\n",
    "        break;\n",
    "    \n",
    "    # do something...\n",
    "    if state.output_int_register_0 != 0:\n",
    "        new_setp = setp1 if setp_to_list(setp) == setp2 else setp2\n",
    "        list_to_setp(setp, new_setp)\n",
    "        # send new setpoint        \n",
    "        con.send(setp)\n",
    "\n",
    "    # kick watchdog\n",
    "    con.send(watchdog)"
   ]
  },
  {
   "cell_type": "code",
   "execution_count": 8,
   "metadata": {},
   "outputs": [
    {
     "name": "stderr",
     "output_type": "stream",
     "text": [
      "ERROR:root:Unable to send: not connected to Robot\n",
      "ERROR:root:RTDE synchronization failed to pause\n"
     ]
    }
   ],
   "source": [
    "con.send_pause()"
   ]
  },
  {
   "cell_type": "code",
   "execution_count": 9,
   "metadata": {},
   "outputs": [],
   "source": [
    "con.disconnect()"
   ]
  },
  {
   "cell_type": "code",
   "execution_count": 10,
   "metadata": {},
   "outputs": [
    {
     "data": {
      "text/plain": [
       "<rtde.serialize.DataObject at 0x10381a0d0>"
      ]
     },
     "execution_count": 10,
     "metadata": {},
     "output_type": "execute_result"
    }
   ],
   "source": [
    "setp"
   ]
  }
 ],
 "metadata": {
  "kernelspec": {
   "display_name": "Python 2",
   "language": "python",
   "name": "python2"
  },
  "language_info": {
   "codemirror_mode": {
    "name": "ipython",
    "version": 2
   },
   "file_extension": ".py",
   "mimetype": "text/x-python",
   "name": "python",
   "nbconvert_exporter": "python",
   "pygments_lexer": "ipython2",
   "version": "2.7.15"
  }
 },
 "nbformat": 4,
 "nbformat_minor": 2
}
