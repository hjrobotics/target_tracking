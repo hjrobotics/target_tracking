{
 "cells": [
  {
   "cell_type": "code",
   "execution_count": 1770,
   "metadata": {},
   "outputs": [
    {
     "ename": "OculusFunctionError",
     "evalue": "Call to function ovr.create() failed. Error code -1007. ovr_Create: No HMD attached. (-1007)",
     "output_type": "error",
     "traceback": [
      "\u001b[1;31m---------------------------------------------------------------------------\u001b[0m",
      "\u001b[1;31mOculusFunctionError\u001b[0m                       Traceback (most recent call last)",
      "\u001b[1;32m<ipython-input-1770-6128d2c591d7>\u001b[0m in \u001b[0;36m<module>\u001b[1;34m()\u001b[0m\n\u001b[0;32m     12\u001b[0m \u001b[1;33m\u001b[0m\u001b[0m\n\u001b[0;32m     13\u001b[0m \u001b[0movr\u001b[0m\u001b[1;33m.\u001b[0m\u001b[0minitialize\u001b[0m\u001b[1;33m(\u001b[0m\u001b[0mNone\u001b[0m\u001b[1;33m)\u001b[0m\u001b[1;33m\u001b[0m\u001b[0m\n\u001b[1;32m---> 14\u001b[1;33m \u001b[0msession\u001b[0m\u001b[1;33m,\u001b[0m \u001b[0mluid\u001b[0m \u001b[1;33m=\u001b[0m \u001b[0movr\u001b[0m\u001b[1;33m.\u001b[0m\u001b[0mcreate\u001b[0m\u001b[1;33m(\u001b[0m\u001b[1;33m)\u001b[0m\u001b[1;33m\u001b[0m\u001b[0m\n\u001b[0m",
      "\u001b[1;32mC:\\Users\\Handjob\\AppData\\Local\\conda\\conda\\envs\\rif\\lib\\site-packages\\ovr\\_ovr1160.pyc\u001b[0m in \u001b[0;36mcreate\u001b[1;34m()\u001b[0m\n\u001b[0;32m   1920\u001b[0m     \u001b[0mpLuid\u001b[0m \u001b[1;33m=\u001b[0m \u001b[0mGraphicsLuid\u001b[0m\u001b[1;33m(\u001b[0m\u001b[1;33m)\u001b[0m\u001b[1;33m\u001b[0m\u001b[0m\n\u001b[0;32m   1921\u001b[0m     \u001b[0mresult\u001b[0m \u001b[1;33m=\u001b[0m \u001b[0mlibovr\u001b[0m\u001b[1;33m.\u001b[0m\u001b[0movr_Create\u001b[0m\u001b[1;33m(\u001b[0m\u001b[0mbyref\u001b[0m\u001b[1;33m(\u001b[0m\u001b[0mpSession\u001b[0m\u001b[1;33m)\u001b[0m\u001b[1;33m,\u001b[0m \u001b[0mbyref\u001b[0m\u001b[1;33m(\u001b[0m\u001b[0mpLuid\u001b[0m\u001b[1;33m)\u001b[0m\u001b[1;33m)\u001b[0m\u001b[1;33m\u001b[0m\u001b[0m\n\u001b[1;32m-> 1922\u001b[1;33m     \u001b[0m_checkResult\u001b[0m\u001b[1;33m(\u001b[0m\u001b[0mresult\u001b[0m\u001b[1;33m,\u001b[0m \u001b[1;34m\"create\"\u001b[0m\u001b[1;33m)\u001b[0m\u001b[1;33m\u001b[0m\u001b[0m\n\u001b[0m\u001b[0;32m   1923\u001b[0m     \u001b[1;32mreturn\u001b[0m \u001b[0mpSession\u001b[0m\u001b[1;33m,\u001b[0m \u001b[0mpLuid\u001b[0m\u001b[1;33m\u001b[0m\u001b[0m\n\u001b[0;32m   1924\u001b[0m \u001b[1;33m\u001b[0m\u001b[0m\n",
      "\u001b[1;32mC:\\Users\\Handjob\\AppData\\Local\\conda\\conda\\envs\\rif\\lib\\site-packages\\ovr\\_ovr1160.pyc\u001b[0m in \u001b[0;36m_checkResult\u001b[1;34m(ovrResult, functionName)\u001b[0m\n\u001b[0;32m    107\u001b[0m     \u001b[1;32mexcept\u001b[0m\u001b[1;33m:\u001b[0m\u001b[1;33m\u001b[0m\u001b[0m\n\u001b[0;32m    108\u001b[0m         \u001b[0mmsg\u001b[0m \u001b[1;33m+=\u001b[0m \u001b[1;34m\" And, annoyingly, getLastErrorInfo() failed too.\"\u001b[0m\u001b[1;33m\u001b[0m\u001b[0m\n\u001b[1;32m--> 109\u001b[1;33m     \u001b[1;32mraise\u001b[0m \u001b[0mOculusFunctionError\u001b[0m\u001b[1;33m(\u001b[0m\u001b[0mmsg\u001b[0m\u001b[1;33m)\u001b[0m\u001b[1;33m\u001b[0m\u001b[0m\n\u001b[0m\u001b[0;32m    110\u001b[0m \u001b[1;33m\u001b[0m\u001b[0m\n\u001b[0;32m    111\u001b[0m \u001b[1;31m### BEGIN Declarations from C header file OVR_Version.h ###\u001b[0m\u001b[1;33m\u001b[0m\u001b[1;33m\u001b[0m\u001b[0m\n",
      "\u001b[1;31mOculusFunctionError\u001b[0m: Call to function ovr.create() failed. Error code -1007. ovr_Create: No HMD attached. (-1007)"
     ]
    }
   ],
   "source": [
    "import sys\n",
    "sys.path.append('..')\n",
    "import logging\n",
    "import rtde.rtde as rtde\n",
    "import rtde.rtde_config as rtde_config\n",
    "import time\n",
    "import math\n",
    "import subprocess\n",
    "import os\n",
    "import ovr\n",
    "from pyquaternion import Quaternion\n",
    "\n",
    "ovr.initialize(None)\n",
    "session, luid = ovr.create()\n"
   ]
  },
  {
   "cell_type": "code",
   "execution_count": null,
   "metadata": {},
   "outputs": [],
   "source": [
    "#logging.basicConfig(level=logging.INFO)\n",
    "\n",
    "ROBOT_HOST = '192.168.188.123'\n",
    "ROBOT_PORT = 30004\n",
    "config_filename = 'pose_pilot_configuration_without_button.xml'\n",
    "\n",
    "keep_running = True\n",
    "logging.getLogger().setLevel(logging.INFO)"
   ]
  },
  {
   "cell_type": "code",
   "execution_count": null,
   "metadata": {},
   "outputs": [],
   "source": [
    "conf = rtde_config.ConfigFile(config_filename)\n",
    "state_names, state_types = conf.get_recipe('state')\n",
    "setp_names, setp_types = conf.get_recipe('setp')\n",
    "watchdog_names, watchdog_types = conf.get_recipe('watchdog')"
   ]
  },
  {
   "cell_type": "code",
   "execution_count": null,
   "metadata": {},
   "outputs": [],
   "source": [
    "con = rtde.RTDE(ROBOT_HOST, ROBOT_PORT)\n",
    "con.connect()\n",
    "\n",
    "# get controller version\n",
    "con.get_controller_version()\n",
    "\n",
    "# setup recipes\n",
    "con.send_output_setup(state_names, state_types)\n",
    "setp = con.send_input_setup(setp_names, setp_types)\n",
    "watchdog = con.send_input_setup(watchdog_names, watchdog_types)"
   ]
  },
  {
   "cell_type": "code",
   "execution_count": 3,
   "metadata": {},
   "outputs": [],
   "source": [
    "def quaternion_to_euler_angle(w, x, y, z):\n",
    "\tysqr = y * y\n",
    "\t\n",
    "\tt0 = +2.0 * (w * x + y * z)\n",
    "\tt1 = +1.0 - 2.0 * (x * x + ysqr)\n",
    "\tX = math.degrees(math.atan2(t0, t1))\n",
    "\t\n",
    "\tt2 = +2.0 * (w * y - z * x)\n",
    "\tt2 = +1.0 if t2 > +1.0 else t2\n",
    "\tt2 = -1.0 if t2 < -1.0 else t2\n",
    "\tY = math.degrees(math.asin(t2))\n",
    "\t\n",
    "\tt3 = +2.0 * (w * z + x * y)\n",
    "\tt4 = +1.0 - 2.0 * (ysqr + z * z)\n",
    "\tZ = math.degrees(math.atan2(t3, t4))\n",
    "\t\n",
    "\treturn X, Y, Z"
   ]
  },
  {
   "cell_type": "code",
   "execution_count": 4,
   "metadata": {},
   "outputs": [],
   "source": [
    "def quaternion_to_axis_angle(w, x, y, z):\n",
    "    angle = 2*math.acos(w)\n",
    "    ax = angle * x / math.sqrt(1-w*w)\n",
    "    ay = angle * y / math.sqrt(1-w*w)\n",
    "    az = angle * z / math.sqrt(1-w*w)\n",
    "    return ax, ay, az\n",
    "def axis_angle_to_quaternion(ax, ay, az):\n",
    "    angle = math.sqrt(ax*ax + ay*ay + az*az)\n",
    "    return math.cos(angle/2), ax*math.sin(angle/2)/angle, ay*math.sin(angle/2)/angle, az*math.sin(angle/2)/angle"
   ]
  },
  {
   "cell_type": "code",
   "execution_count": 683,
   "metadata": {},
   "outputs": [],
   "source": [
    "def quat_to_neg_quat(q):\n",
    "    return q[0], -q[1], -q[2], -q[3]"
   ]
  },
  {
   "cell_type": "code",
   "execution_count": 5,
   "metadata": {},
   "outputs": [],
   "source": [
    "class transform:\n",
    "    def __init__(self, scale, offset):\n",
    "        assert len(scale) == len(offset)\n",
    "        self.scale = scale\n",
    "        self.offset = offset\n",
    "    \n",
    "    def doTransform(self, p):\n",
    "        return [s*x+b for s, x , b in zip(self.scale, p, self.offset)]"
   ]
  },
  {
   "cell_type": "code",
   "execution_count": 6,
   "metadata": {},
   "outputs": [],
   "source": [
    "class deltaTransform:\n",
    "    def __init__(self, original_base, scale, target_base):\n",
    "        self.o_base = original_base\n",
    "        self.scale = scale\n",
    "        self.t_base = target_base\n",
    "        \n",
    "    def doTransform(self, original_point):\n",
    "        # scale and original point delta\n",
    "        scaled_point = [s*(o-b) for s, b , o in zip(self.scale, self.o_base, original_point)]\n",
    "        # transform cartesians\n",
    "        # TODO: make it general, this only works to swap y and z\n",
    "        scaled_point[1], scaled_point[2] = -scaled_point[2], scaled_point[1]\n",
    "        #scaled_point[3], scaled_point[4], scaled_point[5] = -scaled_point[5], scaled_point[4], -scaled_point[3]\n",
    "        scaled_point[3], scaled_point[4], scaled_point[5] = -scaled_point[5], -scaled_point[3], scaled_point[4]\n",
    "        \n",
    "        t_point = [t+s for t, s in zip(self.t_base, scaled_point)]\n",
    "        return t_point"
   ]
  },
  {
   "cell_type": "code",
   "execution_count": 7,
   "metadata": {},
   "outputs": [],
   "source": [
    "def quaternion_multiply(quaternion1, quaternion0):\n",
    "    # Q1*Q0\n",
    "    w0, x0, y0, z0 = quaternion0\n",
    "    w1, x1, y1, z1 = quaternion1\n",
    "    return [-x1 * x0 - y1 * y0 - z1 * z0 + w1 * w0,\n",
    "                x1 * w0 + y1 * z0 - z1 * y0 + w1 * x0,\n",
    "                -x1 * z0 + y1 * w0 + z1 * x0 + w1 * y0,\n",
    "                x1 * y0 - y1 * x0 + z1 * w0 + w1 * z0]\n"
   ]
  },
  {
   "cell_type": "code",
   "execution_count": null,
   "metadata": {},
   "outputs": [],
   "source": [
    "quaternion_multiply([math.cos(math.pi/4), math.sin(math.pi/4), 0, 0], [math.cos(math.pi/4), math.sin(math.pi/4), 0, 0])"
   ]
  },
  {
   "cell_type": "code",
   "execution_count": 8,
   "metadata": {},
   "outputs": [],
   "source": [
    "def setp_to_list(setp):\n",
    "    list = []\n",
    "    for i in range(0,6):\n",
    "        list.append(setp.__dict__[\"input_double_register_%i\" % i])\n",
    "    return list\n",
    "\n",
    "def list_to_setp(setp, list):\n",
    "    for i in range (0,6):\n",
    "        setp.__dict__[\"input_double_register_%i\" % i] = list[i]\n",
    "    return setp"
   ]
  },
  {
   "cell_type": "code",
   "execution_count": null,
   "metadata": {},
   "outputs": [],
   "source": [
    "setp.input_double_register_0 = 0\n",
    "setp.input_double_register_1 = 0\n",
    "setp.input_double_register_2 = 0\n",
    "setp.input_double_register_3 = 0\n",
    "setp.input_double_register_4 = 0\n",
    "setp.input_double_register_5 = 0\n",
    "  \n",
    "# The function \"rtde_set_watchdog\" in the \"rtde_control_loop.urp\" creates a 1 Hz watchdog\n",
    "watchdog.input_int_register_0 = 0\n",
    "\n",
    "T = 5 #sec, Time constant\n",
    "start_time = time.time()\n",
    "\n",
    "robot_base = [0.13, -0.61, 0.30, 0, 0, 0] # communication to robot is in meters and radians\n",
    "controller_base = [-0.9948844313621521, -0.5450869202613831, -0.7905082702636719, 0, 0, 0] # communication with controller is in mm and rad\n",
    "\n",
    "#scale = [0.0005, 0.0005, 0.0005, 1, 1, 1]\n",
    "#scale = [0, 0, 0, 0, 0, 0]\n",
    "scale = [1, 1, 1, 1, 1, 1]\n",
    "#offset = [r-c*s for r, c, s in zip(robot_base, controller_base, scale)]\n",
    "#offset[3:6] = [0, 0, 0]\n",
    "\n",
    "#tr = transform(scale, offset)\n",
    "tr = deltaTransform(controller_base, scale, robot_base)\n",
    "# [0.127489254, -0.69790714, 0.3223092, 0.6, -3.0, -0.07]"
   ]
  },
  {
   "cell_type": "code",
   "execution_count": 1765,
   "metadata": {},
   "outputs": [
    {
     "name": "stdout",
     "output_type": "stream",
     "text": [
      "ovr.Quatf(0.0, -0.0207545608282, 0.0, 0.999784588814)\n"
     ]
    }
   ],
   "source": [
    "#finding transforming quaternine\n",
    "ts  = ovr.getTrackingState(session, ovr.getTimeInSeconds(), True)\n",
    "Rtouch = ts.HandPoses[1]\n",
    "a = Rtouch.ThePose.Position\n",
    "b = Rtouch.ThePose.Orientation\n",
    "\n",
    "#b_axis = quaternion_to_axis_angle(b[0],b[1],b[2],b[3])\n",
    "trans_co_to_rob_cart_quat = (math.cos(math.pi/4),math.sin(math.pi/4), 0, 0)\n",
    "rob_rot_base = axis_angle_to_quaternion(1.57, 0, 0)\n",
    "\n",
    "#temp_quat = quaternion_multiply(trans_co_to_rob_cart_quat, [0, b_axis[0],b_axis[1],b_axis[2]])\n",
    "#temp_quat = quaternion_multiply(temp_quat, quat_to_neg_quat(trans_co_to_rob_cart_quat))\n",
    "#temp_quat = axis_angle_to_quaternion(temp_quat[1], temp_quat[2], temp_quat[3])\n",
    "temp_quat = ([b[0],-b[3],b[1],b[2]])\n",
    "#print([b[0],b[1],-b[3],b[2]])\n",
    "\n",
    "trans_quat = quaternion_multiply(quat_to_neg_quat(temp_quat), rob_rot_base)\n",
    "trans_quat\n",
    "print(b)"
   ]
  },
  {
   "cell_type": "code",
   "execution_count": 733,
   "metadata": {},
   "outputs": [
    {
     "data": {
      "text/plain": [
       "(0.71, 0.71, 0, 0)"
      ]
     },
     "execution_count": 733,
     "metadata": {},
     "output_type": "execute_result"
    }
   ],
   "source": [
    "q1 = [-0.00595320574939, -0.276862770319, 0.0189044270664, -0.960705041885]\n",
    "q2 = [-0.532132387161, -0.309791833162, 0.254735380411, -0.745636701584]\n",
    "q3 = [0.71, -0.71, 0, 0]\n",
    "r = quaternion_multiply(q2, q1)\n",
    "r = quaternion_multiply(r, q3)\n",
    "quaternion_to_axis_angle(r[0], r[1], r[2], r[3])\n",
    "quat_to_neg_quat(q3)"
   ]
  },
  {
   "cell_type": "code",
   "execution_count": 1750,
   "metadata": {},
   "outputs": [
    {
     "name": "stdout",
     "output_type": "stream",
     "text": [
      "ovr.Quatf(0.124015413225, -0.0668356046081, 0.860590040684, -0.489426404238)\n"
     ]
    }
   ],
   "source": [
    "#checking\n",
    "ts  = ovr.getTrackingState(session, ovr.getTimeInSeconds(), True)\n",
    "Rtouch = ts.HandPoses[1]\n",
    "a = Rtouch.ThePose.Position\n",
    "b = Rtouch.ThePose.Orientation\n",
    "q2 = b\n",
    "print(q2)\n"
   ]
  },
  {
   "cell_type": "code",
   "execution_count": 1753,
   "metadata": {},
   "outputs": [
    {
     "name": "stdout",
     "output_type": "stream",
     "text": [
      "(1.8766951580639122, -0.16175661977465455, -0.2501643192326713)\n"
     ]
    },
    {
     "data": {
      "text/plain": [
       "[1.000000043173276, -6.5052130349130266e-18, -4.336808689942018e-19, 0.0]"
      ]
     },
     "execution_count": 1753,
     "metadata": {},
     "output_type": "execute_result"
    }
   ],
   "source": [
    "q1 = [0.0112525718287, -0.264564216137, 0.108742192388, -0.958151519299]\n",
    "#q1 = [rob_rot_base[0], rob_rot_base[1], rob_rot_base[2], rob_rot_base[3]]\n",
    "#q2 =[rob_orient[0], rob_orient[1], rob_orient[2], rob_orient[3]]\n",
    "ww = quaternion_multiply(q2,quat_to_neg_quat(q1))\n",
    "tt = quaternion_to_axis_angle(ww[0],ww[1],ww[2],ww[3])\n",
    "print(tt)"
   ]
  },
  {
   "cell_type": "code",
   "execution_count": 1333,
   "metadata": {},
   "outputs": [
    {
     "data": {
      "text/plain": [
       "(-2.919968475515556, -2.1631090245182136, -2.5365531146079414)"
      ]
     },
     "execution_count": 1333,
     "metadata": {},
     "output_type": "execute_result"
    }
   ],
   "source": [
    "ts  = ovr.getTrackingState(session, ovr.getTimeInSeconds(), True)\n",
    "Rtouch = ts.HandPoses[1]\n",
    "a = Rtouch.ThePose.Position\n",
    "b = Rtouch.ThePose.Orientation\n",
    "\n",
    "#b_axis = quaternion_to_axis_angle(b[0],b[1],b[2],b[3])\n",
    "\n",
    "#temp_quat = quaternion_multiply(trans_co_to_rob_cart_quat, [0, b_axis[0],b_axis[1],b_axis[2]])\n",
    "#temp_quat = quaternion_multiply(temp_quat, quat_to_neg_quat(trans_co_to_rob_cart_quat))\n",
    "#temp_quat = axis_angle_to_quaternion(temp_quat[1], temp_quat[2], temp_quat[3])\n",
    "temp_quat = ([b[0],-b[3],b[1],b[2]])\n",
    "\n",
    "rob_orient = quaternion_multiply(temp_quat, trans_quat)\n",
    "quaternion_to_axis_angle(rob_orient[0], rob_orient[1], rob_orient[2], rob_orient[3])"
   ]
  },
  {
   "cell_type": "code",
   "execution_count": 1684,
   "metadata": {},
   "outputs": [],
   "source": [
    "#finding transforming quaternine\n",
    "ts  = ovr.getTrackingState(session, ovr.getTimeInSeconds(), True)\n",
    "Rtouch = ts.HandPoses[1]\n",
    "b = Rtouch.ThePose.Orientation\n",
    "\n",
    "rob_base_quat = axis_angle_to_quaternion(1.57, 0, 0)\n",
    "cont_base_quat = ([b[0],-b[3],b[1],b[2]])\n",
    "trans_quat = quat_to_neg_quat(cont_base_quat)\n",
    "#trans_quat = quaternion_multiply(quat_to_neg_quat(cont_base_quat), rob_base_quat)"
   ]
  },
  {
   "cell_type": "code",
   "execution_count": 1761,
   "metadata": {},
   "outputs": [
    {
     "name": "stdout",
     "output_type": "stream",
     "text": [
      "ovr.Quatf(0.0, -0.0207545608282, 0.0, 0.999784588814)\n"
     ]
    },
    {
     "data": {
      "text/plain": [
       "(-0.11347317825222979, 2.254213607904854, 2.243911196841083)"
      ]
     },
     "execution_count": 1761,
     "metadata": {},
     "output_type": "execute_result"
    }
   ],
   "source": [
    "ts  = ovr.getTrackingState(session, ovr.getTimeInSeconds(), True)\n",
    "Rtouch = ts.HandPoses[1]\n",
    "b = Rtouch.ThePose.Orientation\n",
    "cont_cur_quat = ([b[0],-b[3],b[1],b[2]])\n",
    "\n",
    "rob_cur_quat = quaternion_multiply(cont_cur_quat, trans_quat)\n",
    "rob_cur_quat[2], rob_cur_quat[3] = - rob_cur_quat[2], - rob_cur_quat[3] \n",
    "rob_cur_quat = quaternion_multiply(rob_cur_quat, rob_base_quat)\n",
    "quaternion_to_axis_angle(rob_cur_quat[0], rob_cur_quat[1], rob_cur_quat[2], rob_cur_quat[3])"
   ]
  },
  {
   "cell_type": "code",
   "execution_count": null,
   "metadata": {},
   "outputs": [],
   "source": [
    "#start data synchronization\n",
    "if not con.send_start():\n",
    "    sys.exit()\n",
    "\n",
    "#while time.time() - start_time < 15:\n",
    "#    current_rad = math.pi/2\n",
    "#    new_setp = [c + a*math.sin(current_rad) for a,c in zip(amp, center)]\n",
    "#    list_to_setp(setp, new_setp)\n",
    "    \n",
    "    # send new setpoint        \n",
    "#    con.send(setp)\n",
    "past_button_state = False\n",
    "# control loop\n",
    "while keep_running:\n",
    "    # receive the current state\n",
    "    state = con.receive()\n",
    "    \n",
    "    if state is None:\n",
    "        break;\n",
    "    \n",
    "    # Calc new setp\n",
    "    ts  = ovr.getTrackingState(session, ovr.getTimeInSeconds(), True)\n",
    "    Rtouch = ts.HandPoses[1]\n",
    "    a = Rtouch.ThePose.Position\n",
    "    b = Rtouch.ThePose.Orientation\n",
    "    \n",
    "    cont_cur_quat = ([b[0],-b[3],b[1],b[2]])\n",
    "    rob_cur_quat = quaternion_multiply(cont_cur_quat, trans_quat)\n",
    "    rob_cur_quat[2], rob_cur_quat[3] = - rob_cur_quat[2], - rob_cur_quat[3] \n",
    "    rob_cur_quat = quaternion_multiply(rob_cur_quat, rob_base_quat)\n",
    "    rob_cur_quat_axis = quaternion_to_axis_angle(rob_cur_quat[0], rob_cur_quat[1], rob_cur_quat[2], rob_cur_quat[3])\n",
    "    \n",
    "    new_setp = [a[0], a[1], a[2]] +list(rob_cur_quat_axis);\n",
    "    #new_setp = [a[0], a[1], a[2]] + [3.14, 0, 0];\n",
    "    new_setp = tr.doTransform(new_setp)\n",
    "    list_to_setp(setp, new_setp)\n",
    "    \n",
    "    # send new setpoint        \n",
    "    con.send(setp)\n",
    "    \n",
    "    # kick watchdog\n",
    "    con.send(watchdog)"
   ]
  },
  {
   "cell_type": "code",
   "execution_count": 397,
   "metadata": {},
   "outputs": [
    {
     "ename": "NameError",
     "evalue": "name 'con' is not defined",
     "output_type": "error",
     "traceback": [
      "\u001b[1;31m---------------------------------------------------------------------------\u001b[0m",
      "\u001b[1;31mNameError\u001b[0m                                 Traceback (most recent call last)",
      "\u001b[1;32m<ipython-input-397-5d354dfa1ec6>\u001b[0m in \u001b[0;36m<module>\u001b[1;34m()\u001b[0m\n\u001b[1;32m----> 1\u001b[1;33m \u001b[0mcon\u001b[0m\u001b[1;33m.\u001b[0m\u001b[0msend_pause\u001b[0m\u001b[1;33m(\u001b[0m\u001b[1;33m)\u001b[0m\u001b[1;33m\u001b[0m\u001b[0m\n\u001b[0m\u001b[0;32m      2\u001b[0m \u001b[0mcon\u001b[0m\u001b[1;33m.\u001b[0m\u001b[0mdisconnect\u001b[0m\u001b[1;33m(\u001b[0m\u001b[1;33m)\u001b[0m\u001b[1;33m\u001b[0m\u001b[0m\n\u001b[0;32m      3\u001b[0m \u001b[0mprocess\u001b[0m\u001b[1;33m.\u001b[0m\u001b[0mterminate\u001b[0m\u001b[1;33m(\u001b[0m\u001b[1;33m)\u001b[0m\u001b[1;33m\u001b[0m\u001b[0m\n\u001b[0;32m      4\u001b[0m \u001b[0msys\u001b[0m\u001b[1;33m.\u001b[0m\u001b[0mstdout\u001b[0m\u001b[1;33m.\u001b[0m\u001b[0mflush\u001b[0m\u001b[1;33m(\u001b[0m\u001b[1;33m)\u001b[0m\u001b[1;33m\u001b[0m\u001b[0m\n\u001b[0;32m      5\u001b[0m \u001b[0movr\u001b[0m\u001b[1;33m.\u001b[0m\u001b[0mdestroy\u001b[0m\u001b[1;33m(\u001b[0m\u001b[0msession\u001b[0m\u001b[1;33m)\u001b[0m\u001b[1;33m\u001b[0m\u001b[0m\n",
      "\u001b[1;31mNameError\u001b[0m: name 'con' is not defined"
     ]
    }
   ],
   "source": [
    "con.send_pause()\n",
    "con.disconnect()\n",
    "process.terminate() \n",
    "sys.stdout.flush()\n",
    "ovr.destroy(session)\n",
    "ovr.shutdown()"
   ]
  },
  {
   "cell_type": "code",
   "execution_count": 1766,
   "metadata": {},
   "outputs": [],
   "source": [
    "sys.stdout.flush()\n",
    "ovr.destroy(session)\n",
    "ovr.shutdown()"
   ]
  }
 ],
 "metadata": {
  "kernelspec": {
   "display_name": "Python 2",
   "language": "python",
   "name": "python2"
  },
  "language_info": {
   "codemirror_mode": {
    "name": "ipython",
    "version": 2
   },
   "file_extension": ".py",
   "mimetype": "text/x-python",
   "name": "python",
   "nbconvert_exporter": "python",
   "pygments_lexer": "ipython2",
   "version": "2.7.15"
  }
 },
 "nbformat": 4,
 "nbformat_minor": 2
}
