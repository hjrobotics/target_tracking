{
 "cells": [
  {
   "cell_type": "code",
   "execution_count": 1,
   "metadata": {
    "collapsed": true
   },
   "outputs": [],
   "source": [
    "import sys\n",
    "sys.path.append('..')\n",
    "import logging\n",
    "import rtde.rtde as rtde\n",
    "import rtde.rtde_config as rtde_config\n",
    "import time\n",
    "import math"
   ]
  },
  {
   "cell_type": "code",
   "execution_count": 2,
   "metadata": {
    "collapsed": true
   },
   "outputs": [],
   "source": [
    "#logging.basicConfig(level=logging.INFO)\n",
    "\n",
    "ROBOT_HOST = '192.168.188.123'\n",
    "ROBOT_PORT = 30004\n",
    "config_filename = 'pose_pilot_configuration.xml'\n",
    "\n",
    "keep_running = True\n",
    "logging.getLogger().setLevel(logging.INFO)"
   ]
  },
  {
   "cell_type": "code",
   "execution_count": 3,
   "metadata": {
    "collapsed": true
   },
   "outputs": [],
   "source": [
    "conf = rtde_config.ConfigFile(config_filename)\n",
    "state_names, state_types = conf.get_recipe('state')\n",
    "setp_names, setp_types = conf.get_recipe('setp')\n",
    "watchdog_names, watchdog_types = conf.get_recipe('watchdog')"
   ]
  },
  {
   "cell_type": "code",
   "execution_count": 4,
   "metadata": {},
   "outputs": [
    {
     "name": "stderr",
     "output_type": "stream",
     "text": [
      "INFO:root:Controller version: 3.4.3.386\n"
     ]
    }
   ],
   "source": [
    "con = rtde.RTDE(ROBOT_HOST, ROBOT_PORT)\n",
    "con.connect()\n",
    "\n",
    "# get controller version\n",
    "con.get_controller_version()\n",
    "\n",
    "# setup recipes\n",
    "con.send_output_setup(state_names, state_types)\n",
    "setp = con.send_input_setup(setp_names, setp_types)\n",
    "watchdog = con.send_input_setup(watchdog_names, watchdog_types)"
   ]
  },
  {
   "cell_type": "code",
   "execution_count": 5,
   "metadata": {
    "collapsed": true
   },
   "outputs": [],
   "source": [
    "# Setpoints to move the robot to\n",
    "setp1 = [0.79, -0.51, 0.97, 0.57, -2.16, 1.68]\n",
    "setp2 = [0.32, -0.41, 1.02, 0.57, -2.16, 1.68]\n",
    "\n",
    "center = [(a + b)/2 for a, b in zip(setp1, setp2)]\n",
    "amp = [(b - a)/2 for a, b in zip(setp1, setp2)]\n",
    "\n",
    "setp.input_double_register_0 = 0\n",
    "setp.input_double_register_1 = 0\n",
    "setp.input_double_register_2 = 0\n",
    "setp.input_double_register_3 = 0\n",
    "setp.input_double_register_4 = 0\n",
    "setp.input_double_register_5 = 0\n",
    "  \n",
    "# The function \"rtde_set_watchdog\" in the \"rtde_control_loop.urp\" creates a 1 Hz watchdog\n",
    "watchdog.input_int_register_0 = 0\n",
    "\n",
    "T = 40 #sec, Time constant\n",
    "start_time = time.time()"
   ]
  },
  {
   "cell_type": "code",
   "execution_count": 6,
   "metadata": {
    "collapsed": true
   },
   "outputs": [],
   "source": [
    "def setp_to_list(setp):\n",
    "    list = []\n",
    "    for i in range(0,6):\n",
    "        list.append(setp.__dict__[\"input_double_register_%i\" % i])\n",
    "    return list\n",
    "\n",
    "def list_to_setp(setp, list):\n",
    "    for i in range (0,6):\n",
    "        setp.__dict__[\"input_double_register_%i\" % i] = list[i]\n",
    "    return setp"
   ]
  },
  {
   "cell_type": "code",
   "execution_count": null,
   "metadata": {},
   "outputs": [
    {
     "name": "stderr",
     "output_type": "stream",
     "text": [
      "INFO:root:RTDE synchronization started\n"
     ]
    }
   ],
   "source": [
    "#start data synchronization\n",
    "if not con.send_start():\n",
    "    sys.exit()\n",
    "\n",
    "# control loop\n",
    "while keep_running:\n",
    "    # receive the current state\n",
    "    state = con.receive()\n",
    "    \n",
    "    if state is None:\n",
    "        break;\n",
    "    \n",
    "    # Calc new setp\n",
    "    current_rad = 2*math.pi*(time.time() - start_time)/T\n",
    "    new_setp = [c + a*math.sin(current_rad) for a,c in zip(amp, center)]\n",
    "    list_to_setp(setp, new_setp)\n",
    "    \n",
    "    # send new setpoint        \n",
    "    con.send(setp)\n",
    "    \n",
    "    # kick watchdog\n",
    "    con.send(watchdog)"
   ]
  },
  {
   "cell_type": "code",
   "execution_count": null,
   "metadata": {
    "collapsed": true
   },
   "outputs": [],
   "source": [
    "con.send_pause()\n",
    "con.disconnect()"
   ]
  }
 ],
 "metadata": {
  "kernelspec": {
   "display_name": "Python [conda env:ur]",
   "language": "python",
   "name": "conda-env-ur-py"
  },
  "language_info": {
   "codemirror_mode": {
    "name": "ipython",
    "version": 2
   },
   "file_extension": ".py",
   "mimetype": "text/x-python",
   "name": "python",
   "nbconvert_exporter": "python",
   "pygments_lexer": "ipython2",
   "version": "2.7.15"
  }
 },
 "nbformat": 4,
 "nbformat_minor": 2
}
