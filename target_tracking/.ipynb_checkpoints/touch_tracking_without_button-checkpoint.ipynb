{
 "cells": [
  {
   "cell_type": "code",
   "execution_count": 1,
   "metadata": {},
   "outputs": [],
   "source": [
    "import sys\n",
    "sys.path.append('..')\n",
    "import logging\n",
    "import rtde.rtde as rtde\n",
    "import rtde.rtde_config as rtde_config\n",
    "import time\n",
    "import math\n",
    "import subprocess\n",
    "import os"
   ]
  },
  {
   "cell_type": "code",
   "execution_count": 2,
   "metadata": {},
   "outputs": [],
   "source": [
    "#logging.basicConfig(level=logging.INFO)\n",
    "\n",
    "ROBOT_HOST = '192.168.188.123'\n",
    "ROBOT_PORT = 30004\n",
    "config_filename = 'pose_pilot_configuration_without_button.xml'\n",
    "\n",
    "keep_running = True\n",
    "logging.getLogger().setLevel(logging.INFO)"
   ]
  },
  {
   "cell_type": "code",
   "execution_count": 3,
   "metadata": {},
   "outputs": [],
   "source": [
    "conf = rtde_config.ConfigFile(config_filename)\n",
    "state_names, state_types = conf.get_recipe('state')\n",
    "setp_names, setp_types = conf.get_recipe('setp')\n",
    "watchdog_names, watchdog_types = conf.get_recipe('watchdog')"
   ]
  },
  {
   "cell_type": "code",
   "execution_count": 4,
   "metadata": {},
   "outputs": [
    {
     "name": "stderr",
     "output_type": "stream",
     "text": [
      "INFO:root:Controller version: 3.5.4.0\n"
     ]
    }
   ],
   "source": [
    "con = rtde.RTDE(ROBOT_HOST, ROBOT_PORT)\n",
    "con.connect()\n",
    "\n",
    "# get controller version\n",
    "con.get_controller_version()\n",
    "\n",
    "# setup recipes\n",
    "con.send_output_setup(state_names, state_types)\n",
    "setp = con.send_input_setup(setp_names, setp_types)\n",
    "watchdog = con.send_input_setup(watchdog_names, watchdog_types)"
   ]
  },
  {
   "cell_type": "code",
   "execution_count": 5,
   "metadata": {},
   "outputs": [],
   "source": [
    "process = subprocess.Popen(r'C:\\OpenHaptics\\Developer\\3.4.0\\examples\\HD\\console\\getTouchState\\x64\\Release\\getTouchState.exe',\n",
    "    stdin = subprocess.PIPE,\n",
    "    stdout = subprocess.PIPE, \n",
    "    stderr = subprocess.PIPE,\n",
    "    universal_newlines = True\n",
    "    )"
   ]
  },
  {
   "cell_type": "code",
   "execution_count": 6,
   "metadata": {},
   "outputs": [
    {
     "data": {
      "text/plain": [
       "'\\n'"
      ]
     },
     "execution_count": 6,
     "metadata": {},
     "output_type": "execute_result"
    }
   ],
   "source": [
    "process.stdout.readline()\n",
    "process.stdout.readline()\n",
    "process.stdout.readline()"
   ]
  },
  {
   "cell_type": "code",
   "execution_count": 7,
   "metadata": {},
   "outputs": [],
   "source": [
    "def getTouchState(p):\n",
    "    p.stdin.write('-')\n",
    "    p.stdin.flush()\n",
    "    state = process.stdout.readline()\n",
    "    return [float(i) for i in state.split(' ')]"
   ]
  },
  {
   "cell_type": "code",
   "execution_count": 8,
   "metadata": {},
   "outputs": [],
   "source": [
    "class transform:\n",
    "    def __init__(self, scale, offset):\n",
    "        assert len(scale) == len(offset)\n",
    "        self.scale = scale\n",
    "        self.offset = offset\n",
    "    \n",
    "    def doTransform(self, p):\n",
    "        return [s*x+b for s, x , b in zip(self.scale, p, self.offset)]"
   ]
  },
  {
   "cell_type": "code",
   "execution_count": 9,
   "metadata": {},
   "outputs": [],
   "source": [
    "class deltaTransform:\n",
    "    def __init__(self, original_base, scale, target_base):\n",
    "        self.o_base = original_base\n",
    "        self.scale = scale\n",
    "        self.t_base = target_base\n",
    "        \n",
    "    def doTransform(self, original_point):\n",
    "        # scale and original point delta\n",
    "        scaled_point = [s*(o-b) for s, b , o in zip(self.scale, self.o_base, original_point)]\n",
    "        # transform cartesians\n",
    "        # TODO: make it general, this only works to swap y and z\n",
    "        scaled_point[1], scaled_point[2] = -scaled_point[2], scaled_point[1]\n",
    "        \n",
    "        t_point = [t+s for t, s in zip(self.t_base, scaled_point)]\n",
    "        return t_point"
   ]
  },
  {
   "cell_type": "code",
   "execution_count": 10,
   "metadata": {},
   "outputs": [
    {
     "data": {
      "text/plain": [
       "[3, -2, 5]"
      ]
     },
     "execution_count": 10,
     "metadata": {},
     "output_type": "execute_result"
    }
   ],
   "source": [
    "t = deltaTransform([1, 1, 1], [2, 2, 2], [1, 2, 3])\n",
    "t.doTransform([2, 2, 3]) # [3, -2, 5]"
   ]
  },
  {
   "cell_type": "code",
   "execution_count": 11,
   "metadata": {},
   "outputs": [],
   "source": [
    "def setp_to_list(setp):\n",
    "    list = []\n",
    "    for i in range(0,6):\n",
    "        list.append(setp.__dict__[\"input_double_register_%i\" % i])\n",
    "    return list\n",
    "\n",
    "def list_to_setp(setp, list):\n",
    "    for i in range (0,6):\n",
    "        setp.__dict__[\"input_double_register_%i\" % i] = list[i]\n",
    "    return setp"
   ]
  },
  {
   "cell_type": "code",
   "execution_count": 12,
   "metadata": {},
   "outputs": [],
   "source": [
    "setp.input_double_register_0 = 0\n",
    "setp.input_double_register_1 = 0\n",
    "setp.input_double_register_2 = 0\n",
    "setp.input_double_register_3 = 0\n",
    "setp.input_double_register_4 = 0\n",
    "setp.input_double_register_5 = 0\n",
    "  \n",
    "# The function \"rtde_set_watchdog\" in the \"rtde_control_loop.urp\" creates a 1 Hz watchdog\n",
    "watchdog.input_int_register_0 = 0\n",
    "\n",
    "T = 5 #sec, Time constant\n",
    "start_time = time.time()\n",
    "\n",
    "robot_base = [0.13, -0.61, 0.30, 0.60, -3.0, -0.07] # communication to robot is in meters and radians\n",
    "controller_base = [1.60547, -97.9115, -85.3162, 0.0812017, -0.556647, 0.742585] # communication with controller is in mm and rad\n",
    "\n",
    "#scale = [0.0005, 0.0005, 0.0005, 1, 1, 1]\n",
    "#scale = [0, 0, 0, 0, 0, 0]\n",
    "scale = [0.002, 0.002, 0.002, 0, 0, 0]\n",
    "#offset = [r-c*s for r, c, s in zip(robot_base, controller_base, scale)]\n",
    "#offset[3:6] = [0, 0, 0]\n",
    "\n",
    "#tr = transform(scale, offset)\n",
    "tr = deltaTransform(controller_base, scale, robot_base)\n",
    "# [0.127489254, -0.69790714, 0.3223092, 0.6, -3.0, -0.07]"
   ]
  },
  {
   "cell_type": "code",
   "execution_count": 29,
   "metadata": {
    "scrolled": true
   },
   "outputs": [
    {
     "data": {
      "text/plain": [
       "[0.14565223, -0.68674509, 0.4647213, 0.6, -3.0, -0.07]"
      ]
     },
     "execution_count": 29,
     "metadata": {},
     "output_type": "execute_result"
    }
   ],
   "source": [
    "new_setp = getTouchState(process)\n",
    "tr.doTransform(new_setp[0:6])"
   ]
  },
  {
   "cell_type": "code",
   "execution_count": 30,
   "metadata": {},
   "outputs": [
    {
     "name": "stderr",
     "output_type": "stream",
     "text": [
      "INFO:root:RTDE synchronization started\n",
      "INFO:root:skipping package(1)\n",
      "INFO:root:skipping package(1)\n",
      "INFO:root:skipping package(1)\n",
      "INFO:root:skipping package(1)\n"
     ]
    },
    {
     "ename": "KeyboardInterrupt",
     "evalue": "",
     "output_type": "error",
     "traceback": [
      "\u001b[1;31m---------------------------------------------------------------------------\u001b[0m",
      "\u001b[1;31mKeyboardInterrupt\u001b[0m                         Traceback (most recent call last)",
      "\u001b[1;32m<ipython-input-30-631919519065>\u001b[0m in \u001b[0;36m<module>\u001b[1;34m()\u001b[0m\n\u001b[0;32m     14\u001b[0m \u001b[1;32mwhile\u001b[0m \u001b[0mkeep_running\u001b[0m\u001b[1;33m:\u001b[0m\u001b[1;33m\u001b[0m\u001b[0m\n\u001b[0;32m     15\u001b[0m     \u001b[1;31m# receive the current state\u001b[0m\u001b[1;33m\u001b[0m\u001b[1;33m\u001b[0m\u001b[0m\n\u001b[1;32m---> 16\u001b[1;33m     \u001b[0mstate\u001b[0m \u001b[1;33m=\u001b[0m \u001b[0mcon\u001b[0m\u001b[1;33m.\u001b[0m\u001b[0mreceive\u001b[0m\u001b[1;33m(\u001b[0m\u001b[1;33m)\u001b[0m\u001b[1;33m\u001b[0m\u001b[0m\n\u001b[0m\u001b[0;32m     17\u001b[0m \u001b[1;33m\u001b[0m\u001b[0m\n\u001b[0;32m     18\u001b[0m     \u001b[1;32mif\u001b[0m \u001b[0mstate\u001b[0m \u001b[1;32mis\u001b[0m \u001b[0mNone\u001b[0m\u001b[1;33m:\u001b[0m\u001b[1;33m\u001b[0m\u001b[0m\n",
      "\u001b[1;32mC:\\Users\\Handjob\\Google Drive\\hand jobs\\UR\\vrsf\\rtde_client_3.5\\rtde\\rtde.pyc\u001b[0m in \u001b[0;36mreceive\u001b[1;34m(self)\u001b[0m\n\u001b[0;32m    174\u001b[0m             \u001b[0mlogging\u001b[0m\u001b[1;33m.\u001b[0m\u001b[0merror\u001b[0m\u001b[1;33m(\u001b[0m\u001b[1;34m'Cannot receive when RTDE synchronization is inactive'\u001b[0m\u001b[1;33m)\u001b[0m\u001b[1;33m\u001b[0m\u001b[0m\n\u001b[0;32m    175\u001b[0m             \u001b[1;32mreturn\u001b[0m \u001b[0mNone\u001b[0m\u001b[1;33m\u001b[0m\u001b[0m\n\u001b[1;32m--> 176\u001b[1;33m         \u001b[1;32mreturn\u001b[0m \u001b[0mself\u001b[0m\u001b[1;33m.\u001b[0m\u001b[0m__recv\u001b[0m\u001b[1;33m(\u001b[0m\u001b[0mCommand\u001b[0m\u001b[1;33m.\u001b[0m\u001b[0mRTDE_DATA_PACKAGE\u001b[0m\u001b[1;33m)\u001b[0m\u001b[1;33m\u001b[0m\u001b[0m\n\u001b[0m\u001b[0;32m    177\u001b[0m \u001b[1;33m\u001b[0m\u001b[0m\n\u001b[0;32m    178\u001b[0m     \u001b[1;32mdef\u001b[0m \u001b[0msend_message\u001b[0m\u001b[1;33m(\u001b[0m\u001b[0mself\u001b[0m\u001b[1;33m,\u001b[0m \u001b[0mmessage\u001b[0m\u001b[1;33m,\u001b[0m \u001b[0msource\u001b[0m \u001b[1;33m=\u001b[0m \u001b[1;34m\"Python Client\"\u001b[0m\u001b[1;33m,\u001b[0m \u001b[0mtype\u001b[0m \u001b[1;33m=\u001b[0m \u001b[0mserialize\u001b[0m\u001b[1;33m.\u001b[0m\u001b[0mMessage\u001b[0m\u001b[1;33m.\u001b[0m\u001b[0mINFO_MESSAGE\u001b[0m\u001b[1;33m)\u001b[0m\u001b[1;33m:\u001b[0m\u001b[1;33m\u001b[0m\u001b[0m\n",
      "\u001b[1;32mC:\\Users\\Handjob\\Google Drive\\hand jobs\\UR\\vrsf\\rtde_client_3.5\\rtde\\rtde.pyc\u001b[0m in \u001b[0;36m__recv\u001b[1;34m(self, command)\u001b[0m\n\u001b[0;32m    232\u001b[0m     \u001b[1;32mdef\u001b[0m \u001b[0m__recv\u001b[0m\u001b[1;33m(\u001b[0m\u001b[0mself\u001b[0m\u001b[1;33m,\u001b[0m \u001b[0mcommand\u001b[0m\u001b[1;33m)\u001b[0m\u001b[1;33m:\u001b[0m\u001b[1;33m\u001b[0m\u001b[0m\n\u001b[0;32m    233\u001b[0m         \u001b[1;32mwhile\u001b[0m \u001b[0mself\u001b[0m\u001b[1;33m.\u001b[0m\u001b[0mis_connected\u001b[0m\u001b[1;33m(\u001b[0m\u001b[1;33m)\u001b[0m\u001b[1;33m:\u001b[0m\u001b[1;33m\u001b[0m\u001b[0m\n\u001b[1;32m--> 234\u001b[1;33m             \u001b[0mreadable\u001b[0m\u001b[1;33m,\u001b[0m \u001b[0m_\u001b[0m\u001b[1;33m,\u001b[0m \u001b[0mxlist\u001b[0m \u001b[1;33m=\u001b[0m \u001b[0mselect\u001b[0m\u001b[1;33m.\u001b[0m\u001b[0mselect\u001b[0m\u001b[1;33m(\u001b[0m\u001b[1;33m[\u001b[0m\u001b[0mself\u001b[0m\u001b[1;33m.\u001b[0m\u001b[0m__sock\u001b[0m\u001b[1;33m]\u001b[0m\u001b[1;33m,\u001b[0m \u001b[1;33m[\u001b[0m\u001b[1;33m]\u001b[0m\u001b[1;33m,\u001b[0m \u001b[1;33m[\u001b[0m\u001b[0mself\u001b[0m\u001b[1;33m.\u001b[0m\u001b[0m__sock\u001b[0m\u001b[1;33m]\u001b[0m\u001b[1;33m,\u001b[0m \u001b[0mDEFAULT_TIMEOUT\u001b[0m\u001b[1;33m)\u001b[0m\u001b[1;33m\u001b[0m\u001b[0m\n\u001b[0m\u001b[0;32m    235\u001b[0m             \u001b[1;32mif\u001b[0m \u001b[0mlen\u001b[0m\u001b[1;33m(\u001b[0m\u001b[0mreadable\u001b[0m\u001b[1;33m)\u001b[0m\u001b[1;33m:\u001b[0m\u001b[1;33m\u001b[0m\u001b[0m\n\u001b[0;32m    236\u001b[0m                 \u001b[0mmore\u001b[0m \u001b[1;33m=\u001b[0m \u001b[0mself\u001b[0m\u001b[1;33m.\u001b[0m\u001b[0m__sock\u001b[0m\u001b[1;33m.\u001b[0m\u001b[0mrecv\u001b[0m\u001b[1;33m(\u001b[0m\u001b[1;36m4096\u001b[0m\u001b[1;33m)\u001b[0m\u001b[1;33m\u001b[0m\u001b[0m\n",
      "\u001b[1;31mKeyboardInterrupt\u001b[0m: "
     ]
    }
   ],
   "source": [
    "#start data synchronization\n",
    "if not con.send_start():\n",
    "    sys.exit()\n",
    "\n",
    "#while time.time() - start_time < 15:\n",
    "#    current_rad = math.pi/2\n",
    "#    new_setp = [c + a*math.sin(current_rad) for a,c in zip(amp, center)]\n",
    "#    list_to_setp(setp, new_setp)\n",
    "    \n",
    "    # send new setpoint        \n",
    "#    con.send(setp)\n",
    "past_button_state = False\n",
    "# control loop\n",
    "while keep_running:\n",
    "    # receive the current state\n",
    "    state = con.receive()\n",
    "    \n",
    "    if state is None:\n",
    "        break;\n",
    "    \n",
    "    # Calc new setp\n",
    "    new_setp = getTouchState(process)\n",
    "    new_setp = tr.doTransform(new_setp[0:6])\n",
    "    list_to_setp(setp, new_setp)\n",
    "    \n",
    "    # send new setpoint        \n",
    "    con.send(setp)\n",
    "    \n",
    "    # kick watchdog\n",
    "    con.send(watchdog)"
   ]
  },
  {
   "cell_type": "code",
   "execution_count": 32,
   "metadata": {},
   "outputs": [
    {
     "name": "stderr",
     "output_type": "stream",
     "text": [
      "ERROR:root:Unable to send: not connected to Robot\n",
      "ERROR:root:RTDE synchronization failed to pause\n"
     ]
    }
   ],
   "source": [
    "con.send_pause()\n",
    "con.disconnect()\n",
    "process.terminate() "
   ]
  }
 ],
 "metadata": {
  "kernelspec": {
   "display_name": "Python 2",
   "language": "python",
   "name": "python2"
  },
  "language_info": {
   "codemirror_mode": {
    "name": "ipython",
    "version": 2
   },
   "file_extension": ".py",
   "mimetype": "text/x-python",
   "name": "python",
   "nbconvert_exporter": "python",
   "pygments_lexer": "ipython2",
   "version": "2.7.15"
  }
 },
 "nbformat": 4,
 "nbformat_minor": 2
}
