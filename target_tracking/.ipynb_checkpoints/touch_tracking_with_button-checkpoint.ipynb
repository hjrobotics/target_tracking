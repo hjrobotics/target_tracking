{
 "cells": [
  {
   "cell_type": "code",
   "execution_count": null,
   "metadata": {},
   "outputs": [],
   "source": [
    "import sys\n",
    "sys.path.append('..')\n",
    "import logging\n",
    "import rtde.rtde as rtde\n",
    "import rtde.rtde_config as rtde_config\n",
    "import time\n",
    "import math\n",
    "import subprocess\n",
    "import os"
   ]
  },
  {
   "cell_type": "code",
   "execution_count": null,
   "metadata": {},
   "outputs": [],
   "source": [
    "#logging.basicConfig(level=logging.INFO)\n",
    "\n",
    "ROBOT_HOST = '192.168.188.123'\n",
    "ROBOT_PORT = 30004\n",
    "config_filename = 'pose_pilot_configuration.xml'\n",
    "\n",
    "keep_running = True\n",
    "logging.getLogger().setLevel(logging.INFO)"
   ]
  },
  {
   "cell_type": "code",
   "execution_count": null,
   "metadata": {},
   "outputs": [],
   "source": [
    "conf = rtde_config.ConfigFile(config_filename)\n",
    "state_names, state_types = conf.get_recipe('state')\n",
    "setp_names, setp_types = conf.get_recipe('setp')\n",
    "watchdog_names, watchdog_types = conf.get_recipe('watchdog')"
   ]
  },
  {
   "cell_type": "code",
   "execution_count": null,
   "metadata": {},
   "outputs": [],
   "source": [
    "con = rtde.RTDE(ROBOT_HOST, ROBOT_PORT)\n",
    "con.connect()\n",
    "\n",
    "# get controller version\n",
    "con.get_controller_version()\n",
    "\n",
    "# setup recipes\n",
    "con.send_output_setup(state_names, state_types)\n",
    "setp = con.send_input_setup(setp_names, setp_types)\n",
    "watchdog = con.send_input_setup(watchdog_names, watchdog_types)"
   ]
  },
  {
   "cell_type": "code",
   "execution_count": null,
   "metadata": {},
   "outputs": [],
   "source": [
    "process = subprocess.Popen(r'C:\\OpenHaptics\\Developer\\3.4.0\\examples\\HD\\console\\getTouchState\\x64\\Release\\getTouchState.exe',\n",
    "    stdin = subprocess.PIPE,\n",
    "    stdout = subprocess.PIPE, \n",
    "    stderr = subprocess.PIPE,\n",
    "    universal_newlines = True\n",
    "    )"
   ]
  },
  {
   "cell_type": "code",
   "execution_count": null,
   "metadata": {},
   "outputs": [],
   "source": [
    "process.stdout.readline()\n",
    "process.stdout.readline()\n",
    "process.stdout.readline()"
   ]
  },
  {
   "cell_type": "code",
   "execution_count": null,
   "metadata": {},
   "outputs": [],
   "source": [
    "def getTouchState(p):\n",
    "    p.stdin.write('-')\n",
    "    p.stdin.flush()\n",
    "    state = process.stdout.readline()\n",
    "    return [float(i) for i in state.split(' ')]"
   ]
  },
  {
   "cell_type": "code",
   "execution_count": 21,
   "metadata": {},
   "outputs": [],
   "source": [
    "class transform:\n",
    "    def __init__(self, scale, offset):\n",
    "        assert len(scale) == len(offset)\n",
    "        self.scale = scale\n",
    "        self.offset = offset\n",
    "    \n",
    "    def doTransform(self, p):\n",
    "        return [s*x+b for s, x , b in zip(self.scale, p, self.offset)]"
   ]
  },
  {
   "cell_type": "code",
   "execution_count": null,
   "metadata": {},
   "outputs": [],
   "source": [
    "def setp_to_list(setp):\n",
    "    list = []\n",
    "    for i in range(0,7):\n",
    "        list.append(setp.__dict__[\"input_double_register_%i\" % i])\n",
    "    return list\n",
    "\n",
    "def list_to_setp(setp, list):\n",
    "    for i in range (0,7):\n",
    "        setp.__dict__[\"input_double_register_%i\" % i] = list[i]\n",
    "    return setp"
   ]
  },
  {
   "cell_type": "code",
   "execution_count": null,
   "metadata": {},
   "outputs": [],
   "source": [
    "setp.input_double_register_0 = 0\n",
    "setp.input_double_register_1 = 0\n",
    "setp.input_double_register_2 = 0\n",
    "setp.input_double_register_3 = 0\n",
    "setp.input_double_register_4 = 0\n",
    "setp.input_double_register_5 = 0\n",
    "setp.input_int_register_0 = 0\n",
    "  \n",
    "# The function \"rtde_set_watchdog\" in the \"rtde_control_loop.urp\" creates a 1 Hz watchdog\n",
    "watchdog.input_int_register_0 = 0\n",
    "\n",
    "T = 5 #sec, Time constant\n",
    "start_time = time.time()\n",
    "\n",
    "tr = transform([0.01, 0.01, 0.01, 1, 1, 1], [0, 0, 0, 0, 0, 0])"
   ]
  },
  {
   "cell_type": "code",
   "execution_count": null,
   "metadata": {},
   "outputs": [],
   "source": [
    "#start data synchronization\n",
    "if not con.send_start():\n",
    "    sys.exit()\n",
    "\n",
    "#while time.time() - start_time < 15:\n",
    "#    current_rad = math.pi/2\n",
    "#    new_setp = [c + a*math.sin(current_rad) for a,c in zip(amp, center)]\n",
    "#    list_to_setp(setp, new_setp)\n",
    "    \n",
    "    # send new setpoint        \n",
    "#    con.send(setp)\n",
    "past_button_state = False\n",
    "# control loop\n",
    "while keep_running:\n",
    "    # receive the current state\n",
    "    state = con.receive()\n",
    "    \n",
    "    if state is None:\n",
    "        break;\n",
    "    \n",
    "    # Calc new setp\n",
    "    new_setp = getTouchState(process)\n",
    "    new_setp[0:6] = tr.doTransform(new_setp[0:6])\n",
    "    is_button_pressed = int(!past_button_state & (new_setp[6] == 1))\n",
    "    past_button_State = new_setp[6] == 1 \n",
    "    new_setp[6] = is_button_pressed\n",
    "    \n",
    "    list_to_setp(setp, new_setp)\n",
    "    \n",
    "    # send new setpoint        \n",
    "    con.send(setp)\n",
    "    \n",
    "    # kick watchdog\n",
    "    con.send(watchdog)"
   ]
  },
  {
   "cell_type": "code",
   "execution_count": null,
   "metadata": {},
   "outputs": [],
   "source": [
    "con.send_pause()\n",
    "con.disconnect()\n",
    "process.terminate() "
   ]
  }
 ],
 "metadata": {
  "kernelspec": {
   "display_name": "Python 2",
   "language": "python",
   "name": "python2"
  },
  "language_info": {
   "codemirror_mode": {
    "name": "ipython",
    "version": 2
   },
   "file_extension": ".py",
   "mimetype": "text/x-python",
   "name": "python",
   "nbconvert_exporter": "python",
   "pygments_lexer": "ipython2",
   "version": "2.7.15"
  }
 },
 "nbformat": 4,
 "nbformat_minor": 2
}
