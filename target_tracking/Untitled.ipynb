{
 "cells": [
  {
   "cell_type": "code",
   "execution_count": 1,
   "metadata": {},
   "outputs": [],
   "source": [
    "import sys\n",
    "import math\n",
    "import ovr\n",
    "from pyquaternion import Quaternion\n",
    "import keyboard\n",
    "ovr.initialize(None)\n",
    "session, luid = ovr.create()\n"
   ]
  },
  {
   "cell_type": "code",
   "execution_count": 2,
   "metadata": {},
   "outputs": [],
   "source": [
    "def quaternion_to_euler_angle(w, x, y, z):\n",
    "\tysqr = y * y\n",
    "\t\n",
    "\tt0 = +2.0 * (w * x + y * z)\n",
    "\tt1 = +1.0 - 2.0 * (x * x + ysqr)\n",
    "\tX = math.degrees(math.atan2(t0, t1))\n",
    "\t\n",
    "\tt2 = +2.0 * (w * y - z * x)\n",
    "\tt2 = +1.0 if t2 > +1.0 else t2\n",
    "\tt2 = -1.0 if t2 < -1.0 else t2\n",
    "\tY = math.degrees(math.asin(t2))\n",
    "\t\n",
    "\tt3 = +2.0 * (w * z + x * y)\n",
    "\tt4 = +1.0 - 2.0 * (ysqr + z * z)\n",
    "\tZ = math.degrees(math.atan2(t3, t4))\n",
    "\t\n",
    "\treturn X, Y, Z"
   ]
  },
  {
   "cell_type": "code",
   "execution_count": 3,
   "metadata": {},
   "outputs": [],
   "source": [
    "def quaternion_to_axis_angle(w, x, y, z):\n",
    "    angle = 2*math.acos(w)\n",
    "    ax = angle * x / math.sqrt(1-w*w)\n",
    "    ay = angle * y / math.sqrt(1-w*w)\n",
    "    az = angle * z / math.sqrt(1-w*w)\n",
    "    return ax, ay, az\n",
    "def axis_angle_to_quaternion(ax, ay, az):\n",
    "    angle = math.sqrt(ax*ax + ay*ay + az*az)\n",
    "    return math.cos(angle/2), ax*math.sin(angle/2)/angle, ay*math.sin(angle/2)/angle, az*math.sin(angle/2)/angle"
   ]
  },
  {
   "cell_type": "code",
   "execution_count": 4,
   "metadata": {},
   "outputs": [],
   "source": [
    "def quat_to_neg_quat(q):\n",
    "    return q[0], -q[1], -q[2], -q[3]"
   ]
  },
  {
   "cell_type": "code",
   "execution_count": 7,
   "metadata": {},
   "outputs": [],
   "source": [
    "def quaternion_multiply(quaternion1, quaternion0):\n",
    "    # Q1*Q0\n",
    "    w0, x0, y0, z0 = quaternion0\n",
    "    w1, x1, y1, z1 = quaternion1\n",
    "    return [-x1 * x0 - y1 * y0 - z1 * z0 + w1 * w0,\n",
    "                x1 * w0 + y1 * z0 - z1 * y0 + w1 * x0,\n",
    "                -x1 * z0 + y1 * w0 + z1 * x0 + w1 * y0,\n",
    "                x1 * y0 - y1 * x0 + z1 * w0 + w1 * z0]\n"
   ]
  },
  {
   "cell_type": "code",
   "execution_count": null,
   "metadata": {},
   "outputs": [],
   "source": [
    "def quaternion_delta(quaternion1,quaternion0)\n",
    "   \n",
    "    return quaternion_multiply(quaternion1,quat_to_neg_quat(quaternion0))"
   ]
  },
  {
   "cell_type": "code",
   "execution_count": null,
   "metadata": {},
   "outputs": [],
   "source": [
    "# R disired\n",
    "ts  = ovr.getTrackingState(session, ovr.getTimeInSeconds(), True)\n",
    "Rtouch = ts.HandPoses[1]\n",
    "a = Rtouch.ThePose.Position\n",
    "b = Rtouch.ThePose.Orientation\n"
   ]
  },
  {
   "cell_type": "code",
   "execution_count": null,
   "metadata": {},
   "outputs": [],
   "source": [
    "#finding transforming quaternine\n",
    "ts  = ovr.getTrackingState(session, ovr.getTimeInSeconds(), True)\n",
    "Rtouch = ts.HandPoses[1]\n",
    "a = Rtouch.ThePose.Position\n",
    "b = Rtouch.ThePose.Orientation\n",
    "\n",
    "#b_axis = quaternion_to_axis_angle(b[0],b[1],b[2],b[3])\n",
    "trans_co_to_rob_cart_quat = (math.cos(math.pi/4),math.sin(math.pi/4), 0, 0)\n",
    "rob_rot_base = axis_angle_to_quaternion(1.57, 0, 0)\n",
    "\n",
    "#temp_quat = quaternion_multiply(trans_co_to_rob_cart_quat, [0, b_axis[0],b_axis[1],b_axis[2]])\n",
    "#temp_quat = quaternion_multiply(temp_quat, quat_to_neg_quat(trans_co_to_rob_cart_quat))\n",
    "#temp_quat = axis_angle_to_quaternion(temp_quat[1], temp_quat[2], temp_quat[3])\n",
    "temp_quat = ([b[0],-b[3],b[1],b[2]])\n",
    "#print([b[0],b[1],-b[3],b[2]])\n",
    "\n",
    "trans_quat = quaternion_multiply(quat_to_neg_quat(temp_quat), rob_rot_base)\n",
    "trans_quat\n",
    "print(a)"
   ]
  },
  {
   "cell_type": "code",
   "execution_count": null,
   "metadata": {},
   "outputs": [],
   "source": [
    "q1 = [-0.00595320574939, -0.276862770319, 0.0189044270664, -0.960705041885]\n",
    "q2 = [-0.532132387161, -0.309791833162, 0.254735380411, -0.745636701584]\n",
    "q3 = [0.71, -0.71, 0, 0]\n",
    "r = quaternion_multiply(q2, q1)\n",
    "r = quaternion_multiply(r, q3)\n",
    "quaternion_to_axis_angle(r[0], r[1], r[2], r[3])\n",
    "quat_to_neg_quat(q3)"
   ]
  },
  {
   "cell_type": "code",
   "execution_count": null,
   "metadata": {},
   "outputs": [],
   "source": [
    "ts  = ovr.getTrackingState(session, ovr.getTimeInSeconds(), True)\n",
    "Rtouch = ts.HandPoses[1]\n",
    "a = Rtouch.ThePose.Position\n",
    "b = Rtouch.ThePose.Orientation\n",
    "\n",
    "#b_axis = quaternion_to_axis_angle(b[0],b[1],b[2],b[3])\n",
    "\n",
    "#temp_quat = quaternion_multiply(trans_co_to_rob_cart_quat, [0, b_axis[0],b_axis[1],b_axis[2]])\n",
    "#temp_quat = quaternion_multiply(temp_quat, quat_to_neg_quat(trans_co_to_rob_cart_quat))\n",
    "#temp_quat = axis_angle_to_quaternion(temp_quat[1], temp_quat[2], temp_quat[3])\n",
    "temp_quat = ([b[0],-b[3],b[1],b[2]])\n",
    "\n",
    "rob_orient = quaternion_multiply(temp_quat, trans_quat)\n",
    "quaternion_to_axis_angle(rob_orient[0], rob_orient[1], rob_orient[2], rob_orient[3])"
   ]
  },
  {
   "cell_type": "code",
   "execution_count": null,
   "metadata": {},
   "outputs": [],
   "source": [
    "ts  = ovr.getTrackingState(session, ovr.getTimeInSeconds(), True)\n",
    "Rtouch = ts.HandPoses[1]\n",
    "b = Rtouch.ThePose.Orientation\n",
    "cont_cur_quat = ([b[0],-b[3],b[1],b[2]])\n",
    "\n",
    "rob_cur_quat = quaternion_multiply(cont_cur_quat, trans_quat)\n",
    "rob_cur_quat[2], rob_cur_quat[3] = - rob_cur_quat[2], - rob_cur_quat[3] \n",
    "rob_cur_quat = quaternion_multiply(rob_cur_quat, rob_base_quat)\n",
    "quaternion_to_axis_angle(rob_cur_quat[0], rob_cur_quat[1], rob_cur_quat[2], rob_cur_quat[3])"
   ]
  },
  {
   "cell_type": "code",
   "execution_count": null,
   "metadata": {},
   "outputs": [],
   "source": [
    "#finding transforming quaternine\n",
    "ts  = ovr.getTrackingState(session, ovr.getTimeInSeconds(), True)\n",
    "Rtouch = ts.HandPoses[1]\n",
    "b = Rtouch.ThePose.Orientation\n",
    "\n",
    "rob_base_quat = axis_angle_to_quaternion(1.57, 0, 0)\n",
    "cont_base_quat = ([b[0],-b[3],b[1],b[2]])\n",
    "trans_quat = quat_to_neg_quat(cont_base_quat)\n",
    "#trans_quat = quaternion_multiply(quat_to_neg_quat(cont_base_quat), rob_base_quat)\n",
    "trans_quat"
   ]
  },
  {
   "cell_type": "code",
   "execution_count": null,
   "metadata": {},
   "outputs": [],
   "source": [
    "sys.stdout.flush()\n",
    "ovr.destroy(session)\n",
    "ovr.shutdown()"
   ]
  }
 ],
 "metadata": {
  "kernelspec": {
   "display_name": "Python 2",
   "language": "python",
   "name": "python2"
  },
  "language_info": {
   "codemirror_mode": {
    "name": "ipython",
    "version": 2
   },
   "file_extension": ".py",
   "mimetype": "text/x-python",
   "name": "python",
   "nbconvert_exporter": "python",
   "pygments_lexer": "ipython2",
   "version": "2.7.15"
  }
 },
 "nbformat": 4,
 "nbformat_minor": 2
}
