{
 "cells": [
  {
   "cell_type": "code",
   "execution_count": 1,
   "metadata": {},
   "outputs": [],
   "source": [
    "import sys\n",
    "sys.path.append('../library')\n",
    "sys.path.append('../library/rtde')\n",
    "import logging\n",
    "import rtde.rtde as rtde\n",
    "import rtde.rtde_config as rtde_config\n",
    "import time\n",
    "import math\n",
    "import subprocess\n",
    "import os"
   ]
  },
  {
   "cell_type": "code",
   "execution_count": 2,
   "metadata": {},
   "outputs": [],
   "source": [
    "#logging.basicConfig(level=logging.INFO)\n",
    "\n",
    "ROBOT_HOST = '192.168.253.1'\n",
    "ROBOT_PORT = 30004\n",
    "config_filename = '../config/config_path_reading.xml'\n",
    "\n",
    "reached_initial_point = False\n",
    "keep_running = True\n",
    "\n",
    "dist_thresh = 0.001\n",
    "\n",
    "logging.getLogger().setLevel(logging.INFO)\n",
    "\n",
    "wayp_file = open(\"../data/waypoint.txt\", \"r\")"
   ]
  },
  {
   "cell_type": "code",
   "execution_count": 3,
   "metadata": {},
   "outputs": [],
   "source": [
    "conf = rtde_config.ConfigFile(config_filename)\n",
    "state_names, state_types = conf.get_recipe('state')\n",
    "setp_names, setp_types = conf.get_recipe('setp')\n",
    "watchdog_names, watchdog_types = conf.get_recipe('watchdog')\n",
    "button_names, button_types = conf.get_recipe('button')\n",
    "is_joint_names, is_joint_types = conf.get_recipe('is_joint')"
   ]
  },
  {
   "cell_type": "code",
   "execution_count": 4,
   "metadata": {},
   "outputs": [
    {
     "name": "stderr",
     "output_type": "stream",
     "text": [
      "INFO:root:Controller version: 5.1.2.0\n"
     ]
    }
   ],
   "source": [
    "con = rtde.RTDE(ROBOT_HOST, ROBOT_PORT)\n",
    "con.connect()\n",
    "\n",
    "# get controller version\n",
    "con.get_controller_version()\n",
    "\n",
    "# setup recipes\n",
    "con.send_output_setup(state_names, state_types)\n",
    "setp = con.send_input_setup(setp_names, setp_types)\n",
    "watchdog = con.send_input_setup(watchdog_names, watchdog_types)\n",
    "button = con.send_input_setup(button_names, button_types)\n",
    "is_joint = con.send_input_setup(is_joint_names, is_joint_types)"
   ]
  },
  {
   "cell_type": "code",
   "execution_count": 5,
   "metadata": {},
   "outputs": [],
   "source": [
    "def setp_to_list(setp):\n",
    "    list = []\n",
    "    for i in range(0,6):\n",
    "        list.append(setp.__dict__[\"input_double_register_%i\" % i])\n",
    "    return list\n",
    "\n",
    "def list_to_setp(setp, list):\n",
    "    for i in range (0,6):\n",
    "        setp.__dict__[\"input_double_register_%i\" % i] = list[i]\n",
    "    return setp\n",
    "\n",
    "def button_to_list(button):\n",
    "    list = []\n",
    "    for i in range(0,2):\n",
    "        list.append(button.__dict__[\"input_int_register_%i\" % (i+1)])\n",
    "    return list\n",
    "\n",
    "def list_to_button(button, list):\n",
    "    for i in range (0,2):\n",
    "        button.__dict__[\"input_int_register_%i\" % (i+1)] = list[i]\n",
    "    return button\n",
    "\n",
    "def is_joint_to_list(is_joint):\n",
    "    list = []\n",
    "    for i in range(0,1):\n",
    "        list.append(is_joint.__dict__[\"input_int_register_%i\" % (i+3)])\n",
    "    return list\n",
    "\n",
    "def list_to_is_joint(is_joint, list):\n",
    "    for i in range (0,1):\n",
    "        is_joint.__dict__[\"input_int_register_%i\" % (i+3)] = list[i]\n",
    "    return is_joint"
   ]
  },
  {
   "cell_type": "code",
   "execution_count": 6,
   "metadata": {},
   "outputs": [],
   "source": [
    "# Initialization\n",
    "# setp\n",
    "setp.input_double_register_0 = 0\n",
    "setp.input_double_register_1 = 0\n",
    "setp.input_double_register_2 = 0\n",
    "setp.input_double_register_3 = 0\n",
    "setp.input_double_register_4 = 0\n",
    "setp.input_double_register_5 = 0\n",
    "\n",
    "# button\n",
    "button.input_int_register_1 = 0\n",
    "button.input_int_register_2 = 0\n",
    "\n",
    "# is_joint\n",
    "is_joint.input_int_register_3 = 0\n",
    "  \n",
    "# The function \"rtde_set_watchdog\" in the \"rtde_control_loop.urp\" creates a 1 Hz watchdog\n",
    "watchdog.input_int_register_0 = 0"
   ]
  },
  {
   "cell_type": "code",
   "execution_count": 1,
   "metadata": {
    "scrolled": true
   },
   "outputs": [
    {
     "ename": "NameError",
     "evalue": "name 'con' is not defined",
     "output_type": "error",
     "traceback": [
      "\u001b[1;31m---------------------------------------------------------------------------\u001b[0m",
      "\u001b[1;31mNameError\u001b[0m                                 Traceback (most recent call last)",
      "\u001b[1;32m<ipython-input-1-69df20c66ff9>\u001b[0m in \u001b[0;36m<module>\u001b[1;34m()\u001b[0m\n\u001b[0;32m      1\u001b[0m \u001b[1;31m#start data synchronization\u001b[0m\u001b[1;33m\u001b[0m\u001b[1;33m\u001b[0m\u001b[0m\n\u001b[1;32m----> 2\u001b[1;33m \u001b[1;32mif\u001b[0m \u001b[1;32mnot\u001b[0m \u001b[0mcon\u001b[0m\u001b[1;33m.\u001b[0m\u001b[0msend_start\u001b[0m\u001b[1;33m(\u001b[0m\u001b[1;33m)\u001b[0m\u001b[1;33m:\u001b[0m\u001b[1;33m\u001b[0m\u001b[0m\n\u001b[0m\u001b[0;32m      3\u001b[0m     \u001b[0msys\u001b[0m\u001b[1;33m.\u001b[0m\u001b[0mexit\u001b[0m\u001b[1;33m(\u001b[0m\u001b[1;33m)\u001b[0m\u001b[1;33m\u001b[0m\u001b[0m\n\u001b[0;32m      4\u001b[0m \u001b[1;33m\u001b[0m\u001b[0m\n\u001b[0;32m      5\u001b[0m \u001b[1;31m# Store initial state in file\u001b[0m\u001b[1;33m\u001b[0m\u001b[1;33m\u001b[0m\u001b[0m\n",
      "\u001b[1;31mNameError\u001b[0m: name 'con' is not defined"
     ]
    }
   ],
   "source": [
    "#start data synchronization\n",
    "if not con.send_start():\n",
    "    sys.exit()\n",
    "    \n",
    "# read initial point from file\n",
    "target_init_state = wayp_file.readline()\n",
    "target_init_state = [float(s) for s in target_init_state.split(',')]\n",
    "\n",
    "# control loop\n",
    "while not reached_initial_point:\n",
    "    # receive the current state\n",
    "    state = con.receive()\n",
    "    \n",
    "    # If connection is broken break\n",
    "    if state is None:\n",
    "        break;\n",
    "    \n",
    "    # distance to target\n",
    "    rmse = math.sqrt(sum[(t-s)^2 for s, t in zip(state.actual_q, target_init_sate)]))\n",
    "    if rmse < dist_thresh:\n",
    "        reached_initial_point = True\n",
    "    \n",
    "    list_to_setp(setp, target_init_state)\n",
    "    \n",
    "    # send new setpoint        \n",
    "    con.send(setp)\n",
    "    \n",
    "    # Get button data\n",
    "    new_button = [0, 0]\n",
    "    list_to_button(button, new_button)\n",
    "    \n",
    "    # Send button data\n",
    "    con.send(button)\n",
    "    \n",
    "    # send is_joint\n",
    "    new_is_joint = [1]\n",
    "    list_to_is_joint(is_joint, new_is_joint)\n",
    "    con.send(is_joint)\n",
    "    \n",
    "    # kick watchdog\n",
    "    con.send(watchdog)\n",
    "\n",
    "# control loop\n",
    "while keep_running:\n",
    "    # receive the current state\n",
    "    state = con.receive()\n",
    "    \n",
    "    # If connection is broken break\n",
    "    if state is None:\n",
    "        break;\n",
    "    \n",
    "    # read new set point\n",
    "    new_setp = wayp_file.readline()\n",
    "    if new_setp == []:\n",
    "        break;\n",
    "    new_setp = [float(s) for s in new_setp.split(',')]\n",
    "    \n",
    "    list_to_setp(setp, new_setp)\n",
    "    \n",
    "    # send new setpoint        \n",
    "    con.send(setp)\n",
    "    \n",
    "    # Get button data\n",
    "    new_button = [0, 0]\n",
    "    list_to_button(button, new_button)\n",
    "    \n",
    "    # Send button data\n",
    "    con.send(button)\n",
    "    \n",
    "    # send is_joint\n",
    "    new_is_joint = [0]\n",
    "    list_to_is_joint(is_joint, new_is_joint)\n",
    "    con.send(is_joint)\n",
    "    \n",
    "    # kick watchdog\n",
    "    con.send(watchdog)"
   ]
  },
  {
   "cell_type": "code",
   "execution_count": null,
   "metadata": {},
   "outputs": [],
   "source": [
    "wayp_file.close()\n",
    "con.send_pause()\n",
    "con.disconnect()\n",
    "sys.stdout.flush()"
   ]
  }
 ],
 "metadata": {
  "kernelspec": {
   "display_name": "Python 2",
   "language": "python",
   "name": "python2"
  },
  "language_info": {
   "codemirror_mode": {
    "name": "ipython",
    "version": 2
   },
   "file_extension": ".py",
   "mimetype": "text/x-python",
   "name": "python",
   "nbconvert_exporter": "python",
   "pygments_lexer": "ipython2",
   "version": "2.7.15"
  }
 },
 "nbformat": 4,
 "nbformat_minor": 2
}
