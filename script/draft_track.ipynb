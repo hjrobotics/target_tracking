{
 "cells": [
  {
   "cell_type": "code",
   "execution_count": null,
   "metadata": {},
   "outputs": [],
   "source": [
    "import sys\n",
    "sys.path.append('../library')\n",
    "sys.path.append('../library/rtde')\n",
    "import logging\n",
    "import rtde.rtde as rtde\n",
    "import rtde.rtde_config as rtde_config\n",
    "import time\n",
    "import math\n",
    "import subprocess\n",
    "import socket \n",
    "import os\n",
    "from quaternion import quaternion\n",
    "import keyboard\n"
   ]
  },
  {
   "cell_type": "code",
   "execution_count": null,
   "metadata": {},
   "outputs": [],
   "source": [
    "#logging.basicConfig(level=logging.INFO)\n",
    "\n",
    "ROBOT_HOST = '192.168.188.123'\n",
    "ROBOT_PORT = 30004\n",
    "config_filename = '../config/pose_pilot_configuration_with_button.xml'\n",
    "\n",
    "UDP_IP = \"127.0.0.1\"\n",
    "UDP_PORT = 5005\n",
    "sock = socket.socket(socket.AF_INET, # Internet\n",
    "                     socket.SOCK_DGRAM) # UDP\n",
    "sock.bind((UDP_IP, UDP_PORT))\n",
    "\n",
    "\n",
    "keep_running = True\n",
    "logging.getLogger().setLevel(logging.INFO)"
   ]
  },
  {
   "cell_type": "code",
   "execution_count": null,
   "metadata": {},
   "outputs": [],
   "source": [
    "conf = rtde_config.ConfigFile(config_filename)\n",
    "state_names, state_types = conf.get_recipe('state')\n",
    "setp_names, setp_types = conf.get_recipe('setp')\n",
    "watchdog_names, watchdog_types = conf.get_recipe('watchdog')\n",
    "button_names, button_types = conf.get_recipe('button')"
   ]
  },
  {
   "cell_type": "code",
   "execution_count": null,
   "metadata": {},
   "outputs": [],
   "source": [
    "con = rtde.RTDE(ROBOT_HOST, ROBOT_PORT)\n",
    "con.connect()\n",
    "\n",
    "# get controller version\n",
    "con.get_controller_version()\n",
    "\n",
    "# setup recipes\n",
    "con.send_output_setup(state_names, state_types)\n",
    "setp = con.send_input_setup(setp_names, setp_types)\n",
    "watchdog = con.send_input_setup(watchdog_names, watchdog_types)\n",
    "button = con.send_input_setup(button_names, button_types)"
   ]
  },
  {
   "cell_type": "code",
   "execution_count": null,
   "metadata": {},
   "outputs": [],
   "source": [
    "class deltaTransform:\n",
    "    def __init__(self, original_base, scale, target_base):\n",
    "        self.o_base = original_base\n",
    "        self.scale = scale\n",
    "        self.t_base = target_base\n",
    "        \n",
    "    def doTransform(self, original_point):\n",
    "        # scale and original point delta\n",
    "        scaled_point = [s*(o-b) for s, b , o in zip(self.scale, self.o_base, original_point)]\n",
    "        # transform cartesians\n",
    "        # TODO: make it general, this only works to swap y and z\n",
    "        scaled_point[0], scaled_point[1], scaled_point[2] = -scaled_point[0], scaled_point[2], scaled_point[1]\n",
    "        \n",
    "        t_point = [t+s for t, s in zip(self.t_base, scaled_point)]\n",
    "        return t_point"
   ]
  }
 ],
 "metadata": {
  "kernelspec": {
   "display_name": "Python 2",
   "language": "python",
   "name": "python2"
  },
  "language_info": {
   "codemirror_mode": {
    "name": "ipython",
    "version": 2
   },
   "file_extension": ".py",
   "mimetype": "text/x-python",
   "name": "python",
   "nbconvert_exporter": "python",
   "pygments_lexer": "ipython2",
   "version": "2.7.15"
  }
 },
 "nbformat": 4,
 "nbformat_minor": 2
}
