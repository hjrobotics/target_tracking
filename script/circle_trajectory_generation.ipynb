{
 "cells": [
  {
   "cell_type": "code",
   "execution_count": 1,
   "metadata": {},
   "outputs": [],
   "source": [
    "import numpy as np\n",
    "\n",
    "def frange(x, y, jump):\n",
    "    l = []\n",
    "    while x < y:\n",
    "        l.append(x)\n",
    "        x += jump\n",
    "    return l\n",
    "\n",
    "#center =  np.array([0.104, -0.098 ])\n",
    "center =  np.array([0.132, -0.115 ])\n",
    "#start_point = np.array([0.484, 0.110])\n",
    "start_point = np.array([0.646, 0.020])\n",
    "start_point_rel = start_point - center\n",
    "\n",
    "end_angle_rel = np.pi*60/180 \n",
    "angle_inc = (np.pi/180)/2\n",
    "\n",
    "r = np.linalg.norm(start_point_rel)\n",
    "alpha_zero = np.arctan2(start_point_rel[1], start_point_rel[0])\n",
    "traj_alpha = np.array(frange(alpha_zero, end_angle_rel+alpha_zero, angle_inc))       \n",
    "x = r*np.cos(traj_alpha) + center[0]\n",
    "z = r*np.sin(traj_alpha) + center[1]\n",
    "y = np.repeat(0.604, x.shape[0])\n",
    "or1 = np.repeat(0.417, x.shape[0])\n",
    "or2 = np.repeat(2.225, x.shape[0])\n",
    "or3 = np.repeat(2.164, x.shape[0])\n",
    "\n",
    "traj = np.transpose(np.vstack((x, y, z, or1, or2, or3)))\n",
    "with open(\"../trajectories/circle/circle_new\", \"w\") as f:\n",
    "    for point in traj:\n",
    "        f.write(','.join(str(p) for p in point) + '\\n')"
   ]
  }
 ],
 "metadata": {
  "kernelspec": {
   "display_name": "Python 2",
   "language": "python",
   "name": "python2"
  },
  "language_info": {
   "codemirror_mode": {
    "name": "ipython",
    "version": 2
   },
   "file_extension": ".py",
   "mimetype": "text/x-python",
   "name": "python",
   "nbconvert_exporter": "python",
   "pygments_lexer": "ipython2",
   "version": "2.7.15"
  }
 },
 "nbformat": 4,
 "nbformat_minor": 2
}
