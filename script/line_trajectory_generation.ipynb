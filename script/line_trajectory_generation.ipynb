{
 "cells": [
  {
   "cell_type": "code",
   "execution_count": 3,
   "metadata": {},
   "outputs": [
    {
     "name": "stdout",
     "output_type": "stream",
     "text": [
      "[0.42  0.415 0.41  0.405 0.4   0.395 0.39  0.385 0.38  0.375 0.37  0.365\n",
      " 0.36  0.355 0.35  0.345 0.34  0.335 0.33  0.325 0.32  0.315 0.31  0.305\n",
      " 0.3   0.295 0.29  0.285 0.28  0.275 0.27  0.265 0.26  0.255 0.25  0.245\n",
      " 0.24  0.235 0.23  0.225 0.22  0.215 0.21  0.205 0.2   0.195 0.19  0.185\n",
      " 0.18  0.175 0.17  0.165 0.16  0.155 0.15  0.145 0.14  0.135 0.13  0.125\n",
      " 0.12  0.115 0.11  0.105 0.1   0.095 0.09  0.085]\n"
     ]
    }
   ],
   "source": [
    "import numpy as np\n",
    "\n",
    "def frange(x, y, jump):\n",
    "    l = []\n",
    "    while x > y:\n",
    "        l.append(x)\n",
    "        x -= jump\n",
    "    return l\n",
    "\n",
    "end =  0.080\n",
    "start = 0.420\n",
    "\n",
    "dist_inc = 0.005\n",
    "\n",
    "\n",
    "x = np.array(frange(start, end, dist_inc))  \n",
    "print(x)\n",
    "y = np.repeat(0.737, x.shape[0])\n",
    "z = np.repeat(0.359, x.shape[0])\n",
    "or1 = np.repeat(1.32, x.shape[0])\n",
    "or2 = np.repeat(0.95, x.shape[0])\n",
    "or3 = np.repeat(1.68, x.shape[0])\n",
    "\n",
    "traj = np.transpose(np.vstack((x, y, z, or1, or2, or3)))\n",
    "with open(\"../trajectories/line/line_new\", \"w\") as f:\n",
    "    for point in traj:\n",
    "        f.write(','.join(str(p) for p in point) + '\\n')"
   ]
  }
 ],
 "metadata": {
  "kernelspec": {
   "display_name": "Python 2",
   "language": "python",
   "name": "python2"
  },
  "language_info": {
   "codemirror_mode": {
    "name": "ipython",
    "version": 2
   },
   "file_extension": ".py",
   "mimetype": "text/x-python",
   "name": "python",
   "nbconvert_exporter": "python",
   "pygments_lexer": "ipython2",
   "version": "2.7.15"
  }
 },
 "nbformat": 4,
 "nbformat_minor": 2
}
