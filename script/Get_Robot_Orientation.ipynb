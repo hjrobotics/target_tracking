{
 "cells": [
  {
   "cell_type": "code",
   "execution_count": 1,
   "metadata": {},
   "outputs": [],
   "source": [
    "import sys\n",
    "sys.path.append('../library')\n",
    "\n",
    "import time\n",
    "import math\n",
    "import subprocess\n",
    "import os\n",
    "#import ovr\n",
    "from quaternion import quaternion\n",
    "#ovr.initialize(None)\n",
    "#session, luid = ovr.create()"
   ]
  },
  {
   "cell_type": "code",
   "execution_count": 2,
   "metadata": {},
   "outputs": [],
   "source": [
    "# Inputs (Controller Base Orientation + Robot Base Orientation + Cordinate rotation from controller to robot)\n",
    "\n",
    "# Input Controller Base Orientation\n",
    "ts  = ovr.getTrackingState(session, ovr.getTimeInSeconds(), True)\n",
    "\n",
    "# Input Robot Base Orientation\n",
    "rob_base_ori_axis_angle = [math.pi/2,0,0]\n",
    "\n",
    "# Input Cordinate rotation from controller to robot\n",
    "cor_rot_in_axis_angle = [math.pi/2,0,0]\n",
    "\n",
    "# Work on Inputs\n",
    "Rtouch = ts.HandPoses[1]\n",
    "b = Rtouch.ThePose.Orientation\n",
    "con_base_ori = quaternion(b[3],b[0],b[1],b[2])\n",
    "rob_base_ori = quaternion.axis_angle_to_quaternion(rob_base_ori_axis_angle)\n",
    "cor_rot = quaternion.axis_angle_to_quaternion(cor_rot_in_axis_angle)"
   ]
  },
  {
   "cell_type": "code",
   "execution_count": 3,
   "metadata": {},
   "outputs": [],
   "source": [
    "#The stream starts here"
   ]
  },
  {
   "cell_type": "code",
   "execution_count": 4,
   "metadata": {},
   "outputs": [],
   "source": [
    "# Controller Current Orientation in Controller cordinates\n",
    "\n",
    "ts  = ovr.getTrackingState(session, ovr.getTimeInSeconds(), True)\n",
    "Rtouch = ts.HandPoses[1]\n",
    "b = Rtouch.ThePose.Orientation\n",
    "con_ori = quaternion(b[3],b[0],b[1],b[2])"
   ]
  },
  {
   "cell_type": "code",
   "execution_count": 5,
   "metadata": {},
   "outputs": [],
   "source": [
    "# Delta in Controller Cordinates(rotation between current and base orientation of the controller)\n",
    "\n",
    "con_delta_rot = con_ori.delta(con_base_ori)\n",
    "con_delta_rot_axis = con_delta_rot.to_axis_angle()"
   ]
  },
  {
   "cell_type": "code",
   "execution_count": 6,
   "metadata": {},
   "outputs": [],
   "source": [
    "# Getting Delta in Robot Cordinate\n",
    "\n",
    "delta_in_rob_cor_axis_angle = cor_rot.rotate_vector(con_delta_rot_axis)\n",
    "delta_in_rob_cor = quaternion.axis_angle_to_quaternion(delta_in_rob_cor_axis_angle)"
   ]
  },
  {
   "cell_type": "code",
   "execution_count": 8,
   "metadata": {},
   "outputs": [],
   "source": [
    "# Orientation being sent to the Robot\n",
    "Ori = delta_in_rob_cor.multiply(rob_base_ori)"
   ]
  },
  {
   "cell_type": "code",
   "execution_count": null,
   "metadata": {},
   "outputs": [],
   "source": [
    "#stream ends here"
   ]
  },
  {
   "cell_type": "code",
   "execution_count": null,
   "metadata": {},
   "outputs": [],
   "source": [
    "sys.stdout.flush()\n",
    "ovr.destroy(session)\n",
    "ovr.shutdown()"
   ]
  }
 ],
 "metadata": {
  "kernelspec": {
   "display_name": "Python 2",
   "language": "python",
   "name": "python2"
  },
  "language_info": {
   "codemirror_mode": {
    "name": "ipython",
    "version": 2
   },
   "file_extension": ".py",
   "mimetype": "text/x-python",
   "name": "python",
   "nbconvert_exporter": "python",
   "pygments_lexer": "ipython2",
   "version": "2.7.15"
  }
 },
 "nbformat": 4,
 "nbformat_minor": 2
}
