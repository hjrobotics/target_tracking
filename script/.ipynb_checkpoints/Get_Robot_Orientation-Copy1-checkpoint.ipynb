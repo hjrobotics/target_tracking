{
 "cells": [
  {
   "cell_type": "code",
   "execution_count": 1,
   "metadata": {},
   "outputs": [],
   "source": [
    "import sys\n",
    "sys.path.append('..')\n",
    "\n",
    "import time\n",
    "import math\n",
    "import subprocess\n",
    "import os\n",
    "import ovr\n",
    "ovr.initialize(None)\n",
    "session, luid = ovr.create()"
   ]
  },
  {
   "cell_type": "code",
   "execution_count": 2,
   "metadata": {},
   "outputs": [],
   "source": [
    "def quaternion_to_axis_angle(w, x, y, z):\n",
    "    angle = 2*math.acos(w)\n",
    "    ax = angle * x / math.sqrt(1-w*w)\n",
    "    ay = angle * y / math.sqrt(1-w*w)\n",
    "    az = angle * z / math.sqrt(1-w*w)\n",
    "    return ax, ay, az\n",
    "def axis_angle_to_quaternion(ax, ay, az):\n",
    "    angle = math.sqrt(ax*ax + ay*ay + az*az)\n",
    "    return math.cos(angle/2), ax*math.sin(angle/2)/angle, ay*math.sin(angle/2)/angle, az*math.sin(angle/2)/angle"
   ]
  },
  {
   "cell_type": "code",
   "execution_count": 3,
   "metadata": {},
   "outputs": [],
   "source": [
    "def quat_to_neg_quat(q):\n",
    "    return q[0], -q[1], -q[2], -q[3]"
   ]
  },
  {
   "cell_type": "code",
   "execution_count": 4,
   "metadata": {},
   "outputs": [],
   "source": [
    "def quaternion_multiply(quaternion1, quaternion0):\n",
    "    # Q1*Q0\n",
    "    w0, x0, y0, z0 = quaternion0\n",
    "    w1, x1, y1, z1 = quaternion1\n",
    "    return [-x1 * x0 - y1 * y0 - z1 * z0 + w1 * w0,\n",
    "                x1 * w0 + y1 * z0 - z1 * y0 + w1 * x0,\n",
    "                -x1 * z0 + y1 * w0 + z1 * x0 + w1 * y0,\n",
    "                x1 * y0 - y1 * x0 + z1 * w0 + w1 * z0]"
   ]
  },
  {
   "cell_type": "code",
   "execution_count": 5,
   "metadata": {},
   "outputs": [],
   "source": [
    "def rotate_vector(quaternion, vector):\n",
    "    a, b, c = vector\n",
    "    half = quaternion_multiply(quaternion, [0, a, b, c])\n",
    "    return quaternion_multiply(half,quat_to_neg_quat(quaternion))"
   ]
  },
  {
   "cell_type": "code",
   "execution_count": 6,
   "metadata": {},
   "outputs": [],
   "source": [
    "def quaternion_delta(quaternion1,quaternion0):\n",
    "   \n",
    "    return quaternion_multiply(quaternion1,quat_to_neg_quat(quaternion0))"
   ]
  },
  {
   "cell_type": "code",
   "execution_count": 11,
   "metadata": {},
   "outputs": [
    {
     "ename": "TypeError",
     "evalue": "axis_angle_to_quaternion() takes exactly 3 arguments (1 given)",
     "output_type": "error",
     "traceback": [
      "\u001b[1;31m---------------------------------------------------------------------------\u001b[0m",
      "\u001b[1;31mTypeError\u001b[0m                                 Traceback (most recent call last)",
      "\u001b[1;32m<ipython-input-11-6cc26e5ce5e2>\u001b[0m in \u001b[0;36m<module>\u001b[1;34m()\u001b[0m\n\u001b[0;32m     15\u001b[0m \u001b[0mcon_base_ori\u001b[0m \u001b[1;33m=\u001b[0m \u001b[1;33m(\u001b[0m\u001b[0mb\u001b[0m\u001b[1;33m[\u001b[0m\u001b[1;36m3\u001b[0m\u001b[1;33m]\u001b[0m\u001b[1;33m,\u001b[0m\u001b[0mb\u001b[0m\u001b[1;33m[\u001b[0m\u001b[1;36m0\u001b[0m\u001b[1;33m]\u001b[0m\u001b[1;33m,\u001b[0m\u001b[0mb\u001b[0m\u001b[1;33m[\u001b[0m\u001b[1;36m1\u001b[0m\u001b[1;33m]\u001b[0m\u001b[1;33m,\u001b[0m\u001b[0mb\u001b[0m\u001b[1;33m[\u001b[0m\u001b[1;36m2\u001b[0m\u001b[1;33m]\u001b[0m\u001b[1;33m)\u001b[0m\u001b[1;33m\u001b[0m\u001b[0m\n\u001b[0;32m     16\u001b[0m \u001b[0mrob_base_ori\u001b[0m \u001b[1;33m=\u001b[0m \u001b[0maxis_angle_to_quaternion\u001b[0m\u001b[1;33m(\u001b[0m\u001b[0mmath\u001b[0m\u001b[1;33m.\u001b[0m\u001b[0mpi\u001b[0m\u001b[1;33m/\u001b[0m\u001b[1;36m2\u001b[0m\u001b[1;33m,\u001b[0m\u001b[1;36m0\u001b[0m\u001b[1;33m,\u001b[0m\u001b[1;36m0\u001b[0m\u001b[1;33m)\u001b[0m\u001b[1;33m\u001b[0m\u001b[0m\n\u001b[1;32m---> 17\u001b[1;33m \u001b[0mcor_rot\u001b[0m \u001b[1;33m=\u001b[0m \u001b[0maxis_angle_to_quaternion\u001b[0m\u001b[1;33m(\u001b[0m\u001b[0mcor_rot_in_axis_angle\u001b[0m\u001b[1;33m)\u001b[0m\u001b[1;33m\u001b[0m\u001b[0m\n\u001b[0m",
      "\u001b[1;31mTypeError\u001b[0m: axis_angle_to_quaternion() takes exactly 3 arguments (1 given)"
     ]
    }
   ],
   "source": [
    "# Inputs (Controller Base Orientation + Robot Base Orientation + Cordinate rotation from controller to robot)\n",
    "\n",
    "# Input Controller Base Orientation\n",
    "ts  = ovr.getTrackingState(session, ovr.getTimeInSeconds(), True)\n",
    "\n",
    "# Input Robot Base Orientation\n",
    "rob_base_ori_axis_angle = [math.pi/2,0,0]\n",
    "\n",
    "# Input Cordinate rotation from controller to robot\n",
    "cor_rot_in_axis_angle = [math.pi/2,0,0]\n",
    "\n",
    "# Work on Inputs\n",
    "Rtouch = ts.HandPoses[1]\n",
    "b = Rtouch.ThePose.Orientation\n",
    "con_base_ori = (b[3],b[0],b[1],b[2])\n",
    "rob_base_ori = axis_angle_to_quaternion(rob_base_ori_axis_angle)\n",
    "cor_rot = axis_angle_to_quaternion(cor_rot_in_axis_angle)"
   ]
  },
  {
   "cell_type": "code",
   "execution_count": null,
   "metadata": {},
   "outputs": [],
   "source": [
    "#The stream starts here"
   ]
  },
  {
   "cell_type": "code",
   "execution_count": null,
   "metadata": {},
   "outputs": [],
   "source": [
    "# Controller Current Orientation in Controller cordinates\n",
    "\n",
    "ts  = ovr.getTrackingState(session, ovr.getTimeInSeconds(), True)\n",
    "Rtouch = ts.HandPoses[1]\n",
    "b = Rtouch.ThePose.Orientation\n",
    "con_ori = (b[3],b[0],b[1],b[2])"
   ]
  },
  {
   "cell_type": "code",
   "execution_count": null,
   "metadata": {},
   "outputs": [],
   "source": [
    "# Delta in Controller Cordinates(rotation between current and base orientation of the controller)\n",
    "\n",
    "con_delta_rot = quaternion_delta(con_ori,con_base_ori)\n",
    "con_delta_rot_axis = quaternion_to_axis_angle(con_delta_rot)"
   ]
  },
  {
   "cell_type": "code",
   "execution_count": null,
   "metadata": {},
   "outputs": [],
   "source": [
    "# Getting Delta in Robot Cordinate\n",
    "\n",
    "delta_in_rob_cor_axis_angle = rotate_vector(con_delta_rot_axis,cor_rot)\n",
    "delta_in_rob_cor = axis_angle_to_quaternion(delta_in_rob_cor_axis_angle)"
   ]
  },
  {
   "cell_type": "code",
   "execution_count": null,
   "metadata": {},
   "outputs": [],
   "source": [
    "# Orientation being sent to the Robot\n",
    "Ori = quaternion_multiply(delta_in_rob_cor,rob_base_ori)"
   ]
  },
  {
   "cell_type": "code",
   "execution_count": null,
   "metadata": {},
   "outputs": [],
   "source": [
    "#stream ends here"
   ]
  },
  {
   "cell_type": "code",
   "execution_count": null,
   "metadata": {},
   "outputs": [],
   "source": [
    "sys.stdout.flush()\n",
    "ovr.destroy(session)\n",
    "ovr.shutdown()"
   ]
  }
 ],
 "metadata": {
  "kernelspec": {
   "display_name": "Python 2",
   "language": "python",
   "name": "python2"
  },
  "language_info": {
   "codemirror_mode": {
    "name": "ipython",
    "version": 2
   },
   "file_extension": ".py",
   "mimetype": "text/x-python",
   "name": "python",
   "nbconvert_exporter": "python",
   "pygments_lexer": "ipython2",
   "version": "2.7.15"
  }
 },
 "nbformat": 4,
 "nbformat_minor": 2
}
