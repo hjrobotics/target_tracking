{
 "cells": [
  {
   "cell_type": "code",
   "execution_count": 1,
   "metadata": {},
   "outputs": [
    {
     "name": "stdout",
     "output_type": "stream",
     "text": [
      "[]\n"
     ]
    }
   ],
   "source": [
    "import numpy as np\n",
    "\n",
    "def frange(x, y, jump):\n",
    "    l = []\n",
    "    while x > y:\n",
    "        l.append(x)\n",
    "        x -= jump\n",
    "    return l\n",
    "\n",
    "end =  np.array([0.080])\n",
    "start = np.array([0.420])\n",
    "\n",
    "dist_inc = 0.005\n",
    "\n",
    "\n",
    "x = np.array(frange(start, end, dist_inc))  \n",
    "print(x)\n",
    "y = np.repeat(0.737, x.shape[0])\n",
    "z = np.repeat(0.359, x.shape[0])\n",
    "or1 = np.repeat(1.32, x.shape[0])\n",
    "or2 = np.repeat(0.95, x.shape[0])\n",
    "or3 = np.repeat(1.68, x.shape[0])\n",
    "\n",
    "traj = np.transpose(np.vstack((x, y, z, or1, or2, or3)))\n",
    "with open(\"../trajectories/line/line_new\", \"w\") as f:\n",
    "    for point in traj:\n",
    "        f.write(','.join(str(p) for p in point) + '\\n')"
   ]
  }
 ],
 "metadata": {
  "kernelspec": {
   "display_name": "Python 2",
   "language": "python",
   "name": "python2"
  },
  "language_info": {
   "codemirror_mode": {
    "name": "ipython",
    "version": 2
   },
   "file_extension": ".py",
   "mimetype": "text/x-python",
   "name": "python",
   "nbconvert_exporter": "python",
   "pygments_lexer": "ipython2",
   "version": "2.7.15"
  }
 },
 "nbformat": 4,
 "nbformat_minor": 2
}
