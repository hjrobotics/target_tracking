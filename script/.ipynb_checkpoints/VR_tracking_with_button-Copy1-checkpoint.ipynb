{
 "cells": [
  {
   "cell_type": "code",
   "execution_count": 1,
   "metadata": {},
   "outputs": [],
   "source": [
    "import sys\n",
    "sys.path.append('../library')\n",
    "sys.path.append('../library/rtde')\n",
    "import logging\n",
    "import rtde.rtde as rtde\n",
    "import rtde.rtde_config as rtde_config\n",
    "import time\n",
    "import math\n",
    "import subprocess\n",
    "import socket \n",
    "import os\n",
    "from quaternion import quaternion\n",
    "from transform_coordinate import transform_coordinate\n",
    "import keyboard\n",
    "import ovr\n",
    "\n",
    "ovr.initialize(None)\n",
    "session, luid = ovr.create()\n"
   ]
  },
  {
   "cell_type": "code",
   "execution_count": 2,
   "metadata": {},
   "outputs": [],
   "source": [
    "#logging.basicConfig(level=logging.INFO)\n",
    "\n",
    "ROBOT_HOST = '192.168.188.123'\n",
    "ROBOT_PORT = 30004\n",
    "config_filename = '../config/pose_pilot_configuration_with_button.xml'\n",
    "\n",
    "UDP_IP = \"127.0.0.1\"\n",
    "UDP_PORT = 5005\n",
    "sock = socket.socket(socket.AF_INET, # Internet\n",
    "                     socket.SOCK_DGRAM) # UDP\n",
    "sock.bind((UDP_IP, UDP_PORT))\n",
    "\n",
    "\n",
    "keep_running = True\n",
    "logging.getLogger().setLevel(logging.INFO)"
   ]
  },
  {
   "cell_type": "code",
   "execution_count": 3,
   "metadata": {},
   "outputs": [],
   "source": [
    "conf = rtde_config.ConfigFile(config_filename)\n",
    "state_names, state_types = conf.get_recipe('state')\n",
    "setp_names, setp_types = conf.get_recipe('setp')\n",
    "watchdog_names, watchdog_types = conf.get_recipe('watchdog')\n",
    "button_names, button_types = conf.get_recipe('button')"
   ]
  },
  {
   "cell_type": "code",
   "execution_count": 4,
   "metadata": {},
   "outputs": [
    {
     "name": "stderr",
     "output_type": "stream",
     "text": [
      "INFO:root:Controller version: 3.5.4.0\n"
     ]
    }
   ],
   "source": [
    "con = rtde.RTDE(ROBOT_HOST, ROBOT_PORT)\n",
    "con.connect()\n",
    "\n",
    "# get controller version\n",
    "con.get_controller_version()\n",
    "\n",
    "# setup recipes\n",
    "con.send_output_setup(state_names, state_types)\n",
    "setp = con.send_input_setup(setp_names, setp_types)\n",
    "watchdog = con.send_input_setup(watchdog_names, watchdog_types)\n",
    "button = con.send_input_setup(button_names, button_types)"
   ]
  },
  {
   "cell_type": "code",
   "execution_count": 5,
   "metadata": {},
   "outputs": [],
   "source": [
    "class deltaTransform:\n",
    "    def __init__(self, original_base, scale, target_base):\n",
    "        self.o_base = original_base\n",
    "        self.scale = scale\n",
    "        self.t_base = target_base\n",
    "        \n",
    "        \n",
    "    def doTransform(self, original_point):\n",
    "        \n",
    "\n",
    "\n",
    "        # scale and original point delta\n",
    "        scaled_point = [s*(o-b) for s, b , o in zip(self.scale, self.o_base, original_point)]\n",
    "        # transform cartesians\n",
    "        # TODO: make it general, this only works to swap y and z\n",
    "        scaled_point[0], scaled_point[1], scaled_point[2] = -scaled_point[0], scaled_point[2], scaled_point[1]\n",
    "        \n",
    "        t_point = [t+s for t, s in zip(self.t_base, scaled_point)]\n",
    "        return t_point"
   ]
  },
  {
   "cell_type": "code",
   "execution_count": 6,
   "metadata": {},
   "outputs": [],
   "source": [
    "def setp_to_list(setp):\n",
    "    list = []\n",
    "    for i in range(0,6):\n",
    "        list.append(setp.__dict__[\"input_double_register_%i\" % i])\n",
    "    return list\n",
    "\n",
    "def list_to_setp(setp, list):\n",
    "    for i in range (0,6):\n",
    "        setp.__dict__[\"input_double_register_%i\" % i] = list[i]\n",
    "    return setp\n",
    "\n",
    "def button_to_list(button):\n",
    "    list = []\n",
    "    for i in range(0,2):\n",
    "        list.append(button.__dict__[\"input_int_register_%i\" % (i+1)])\n",
    "    return list\n",
    "\n",
    "def list_to_button(button, list):\n",
    "    for i in range (0,2):\n",
    "        button.__dict__[\"input_int_register_%i\" % (i+1)] = list[i]\n",
    "    return button"
   ]
  },
  {
   "cell_type": "code",
   "execution_count": 7,
   "metadata": {},
   "outputs": [
    {
     "ename": "NameError",
     "evalue": "name 'con_base_ori' is not defined",
     "output_type": "error",
     "traceback": [
      "\u001b[1;31m---------------------------------------------------------------------------\u001b[0m",
      "\u001b[1;31mNameError\u001b[0m                                 Traceback (most recent call last)",
      "\u001b[1;32m<ipython-input-7-ee2b322935cf>\u001b[0m in \u001b[0;36m<module>\u001b[1;34m()\u001b[0m\n\u001b[1;32m----> 1\u001b[1;33m \u001b[0misinstance\u001b[0m\u001b[1;33m(\u001b[0m\u001b[0mcon_base_ori\u001b[0m\u001b[1;33m,\u001b[0m \u001b[0mquaternion\u001b[0m\u001b[1;33m)\u001b[0m\u001b[1;33m\u001b[0m\u001b[0m\n\u001b[0m",
      "\u001b[1;31mNameError\u001b[0m: name 'con_base_ori' is not defined"
     ]
    }
   ],
   "source": [
    "isinstance(con_base_ori, quaternion)"
   ]
  },
  {
   "cell_type": "code",
   "execution_count": 12,
   "metadata": {},
   "outputs": [],
   "source": [
    "ts  = ovr.getTrackingState(session, ovr.getTimeInSeconds(), True)\n",
    "\n",
    "Rtouch = ts.HandPoses[1]\n",
    "a = Rtouch.ThePose.Position   \n",
    "b = Rtouch.ThePose.Orientation\n",
    "\n",
    "con_base_loc = [a[0], a[1], a[2]]\n",
    "con_base_ori = quaternion(b[3],b[0],b[1],b[2])\n",
    "\n",
    "control_cor = transform_coordinate(con_base_loc, con_base_ori)"
   ]
  },
  {
   "cell_type": "code",
   "execution_count": 21,
   "metadata": {},
   "outputs": [
    {
     "ename": "ValueError",
     "evalue": "math domain error",
     "output_type": "error",
     "traceback": [
      "\u001b[1;31m---------------------------------------------------------------------------\u001b[0m",
      "\u001b[1;31mValueError\u001b[0m                                Traceback (most recent call last)",
      "\u001b[1;32m<ipython-input-21-9ce597afbae5>\u001b[0m in \u001b[0;36m<module>\u001b[1;34m()\u001b[0m\n\u001b[0;32m     11\u001b[0m \u001b[0mcon_ori\u001b[0m \u001b[1;33m=\u001b[0m \u001b[0mquaternion\u001b[0m\u001b[1;33m.\u001b[0m\u001b[0maxis_angle_to_quaternion\u001b[0m\u001b[1;33m(\u001b[0m\u001b[0mcon_ori_aangle\u001b[0m\u001b[1;33m)\u001b[0m\u001b[1;33m\u001b[0m\u001b[0m\n\u001b[0;32m     12\u001b[0m \u001b[1;33m\u001b[0m\u001b[0m\n\u001b[1;32m---> 13\u001b[1;33m \u001b[0mloc_t\u001b[0m\u001b[1;33m,\u001b[0m \u001b[0mori_t\u001b[0m \u001b[1;33m=\u001b[0m \u001b[0mcontrol_cor\u001b[0m\u001b[1;33m.\u001b[0m\u001b[0mto_new\u001b[0m\u001b[1;33m(\u001b[0m\u001b[0mcon_loc\u001b[0m\u001b[1;33m,\u001b[0m \u001b[0mcon_ori\u001b[0m\u001b[1;33m)\u001b[0m\u001b[1;33m\u001b[0m\u001b[0m\n\u001b[0m\u001b[0;32m     14\u001b[0m \u001b[1;33m\u001b[0m\u001b[0m\n\u001b[0;32m     15\u001b[0m \u001b[1;32mprint\u001b[0m \u001b[0mloc_t\u001b[0m\u001b[1;33m\u001b[0m\u001b[0m\n",
      "\u001b[1;32mC:\\Users\\Handjob\\Documents\\respositories\\target_tracking\\library\\transform_coordinate.py\u001b[0m in \u001b[0;36mto_new\u001b[1;34m(self, l, ori)\u001b[0m\n\u001b[0;32m     25\u001b[0m \u001b[1;33m\u001b[0m\u001b[0m\n\u001b[0;32m     26\u001b[0m         \u001b[0mdori_old_cor\u001b[0m \u001b[1;33m=\u001b[0m \u001b[0mori\u001b[0m\u001b[1;33m.\u001b[0m\u001b[0mdelta\u001b[0m\u001b[1;33m(\u001b[0m\u001b[0mself\u001b[0m\u001b[1;33m.\u001b[0m\u001b[0mori0\u001b[0m\u001b[1;33m)\u001b[0m\u001b[1;33m\u001b[0m\u001b[0m\n\u001b[1;32m---> 27\u001b[1;33m         \u001b[0mdori_old_cor_aangle\u001b[0m \u001b[1;33m=\u001b[0m \u001b[0mdori_old_cor\u001b[0m\u001b[1;33m.\u001b[0m\u001b[0mto_axis_angle\u001b[0m\u001b[1;33m(\u001b[0m\u001b[1;33m)\u001b[0m\u001b[1;33m\u001b[0m\u001b[0m\n\u001b[0m\u001b[0;32m     28\u001b[0m         \u001b[0mdori_new_cor_aangle\u001b[0m \u001b[1;33m=\u001b[0m \u001b[0mori0_neg\u001b[0m\u001b[1;33m.\u001b[0m\u001b[0mrotate_vector\u001b[0m\u001b[1;33m(\u001b[0m\u001b[0mdori_old_cor_aangle\u001b[0m\u001b[1;33m)\u001b[0m\u001b[1;33m\u001b[0m\u001b[0m\n\u001b[0;32m     29\u001b[0m         \u001b[0mdori_new_cor\u001b[0m \u001b[1;33m=\u001b[0m \u001b[0mquaternion\u001b[0m\u001b[1;33m.\u001b[0m\u001b[0maxis_angle_to_quaternion\u001b[0m\u001b[1;33m(\u001b[0m\u001b[0mdori_new_cor_aangle\u001b[0m\u001b[1;33m)\u001b[0m\u001b[1;33m\u001b[0m\u001b[0m\n",
      "\u001b[1;32mC:\\Users\\Handjob\\Documents\\respositories\\target_tracking\\library\\quaternion.pyc\u001b[0m in \u001b[0;36mto_axis_angle\u001b[1;34m(self)\u001b[0m\n\u001b[0;32m     33\u001b[0m     \u001b[1;32mdef\u001b[0m \u001b[0mto_axis_angle\u001b[0m\u001b[1;33m(\u001b[0m\u001b[0mself\u001b[0m\u001b[1;33m)\u001b[0m\u001b[1;33m:\u001b[0m\u001b[1;33m\u001b[0m\u001b[0m\n\u001b[0;32m     34\u001b[0m         \u001b[0mw\u001b[0m \u001b[1;33m=\u001b[0m \u001b[0mself\u001b[0m\u001b[1;33m.\u001b[0m\u001b[0mw\u001b[0m\u001b[1;33m\u001b[0m\u001b[0m\n\u001b[1;32m---> 35\u001b[1;33m         \u001b[0mangle\u001b[0m \u001b[1;33m=\u001b[0m \u001b[1;36m2\u001b[0m\u001b[1;33m*\u001b[0m\u001b[0mmath\u001b[0m\u001b[1;33m.\u001b[0m\u001b[0macos\u001b[0m\u001b[1;33m(\u001b[0m\u001b[0mw\u001b[0m\u001b[1;33m)\u001b[0m\u001b[1;33m\u001b[0m\u001b[0m\n\u001b[0m\u001b[0;32m     36\u001b[0m         \u001b[0max\u001b[0m \u001b[1;33m=\u001b[0m \u001b[0mangle\u001b[0m \u001b[1;33m*\u001b[0m \u001b[0mself\u001b[0m\u001b[1;33m.\u001b[0m\u001b[0mx\u001b[0m \u001b[1;33m/\u001b[0m \u001b[0mmath\u001b[0m\u001b[1;33m.\u001b[0m\u001b[0msqrt\u001b[0m\u001b[1;33m(\u001b[0m\u001b[1;36m1\u001b[0m\u001b[1;33m-\u001b[0m\u001b[0mw\u001b[0m\u001b[1;33m*\u001b[0m\u001b[0mw\u001b[0m\u001b[1;33m)\u001b[0m\u001b[1;33m\u001b[0m\u001b[0m\n\u001b[0;32m     37\u001b[0m         \u001b[0may\u001b[0m \u001b[1;33m=\u001b[0m \u001b[0mangle\u001b[0m \u001b[1;33m*\u001b[0m \u001b[0mself\u001b[0m\u001b[1;33m.\u001b[0m\u001b[0my\u001b[0m \u001b[1;33m/\u001b[0m \u001b[0mmath\u001b[0m\u001b[1;33m.\u001b[0m\u001b[0msqrt\u001b[0m\u001b[1;33m(\u001b[0m\u001b[1;36m1\u001b[0m\u001b[1;33m-\u001b[0m\u001b[0mw\u001b[0m\u001b[1;33m*\u001b[0m\u001b[0mw\u001b[0m\u001b[1;33m)\u001b[0m\u001b[1;33m\u001b[0m\u001b[0m\n",
      "\u001b[1;31mValueError\u001b[0m: math domain error"
     ]
    }
   ],
   "source": [
    "ts  = ovr.getTrackingState(session, ovr.getTimeInSeconds(), True)\n",
    "\n",
    "Rtouch = ts.HandPoses[1]\n",
    "a = Rtouch.ThePose.Position   \n",
    "b = Rtouch.ThePose.Orientation\n",
    "\n",
    "con_loc = [a[0], a[1], a[2]]\n",
    "con_ori = quaternion(b[3],b[0],b[1],b[2])\n",
    "\n",
    "loc_t, ori_t = control_cor.to_new(con_loc, con_ori)\n",
    "\n",
    "print loc_t\n",
    "print quaternion.to_axis_angle(ori_t)"
   ]
  },
  {
   "cell_type": "code",
   "execution_count": null,
   "metadata": {},
   "outputs": [],
   "source": [
    "# Initialization\n",
    "# setp\n",
    "setp.input_double_register_0 = 0\n",
    "setp.input_double_register_1 = 0\n",
    "setp.input_double_register_2 = 0\n",
    "setp.input_double_register_3 = 0\n",
    "setp.input_double_register_4 = 0\n",
    "setp.input_double_register_5 = 0\n",
    "\n",
    "# button\n",
    "button.input_int_register_1 = 0\n",
    "button.input_int_register_2 = 0\n",
    "  \n",
    "# The function \"rtde_set_watchdog\" in the \"rtde_control_loop.urp\" creates a 1 Hz watchdog\n",
    "watchdog.input_int_register_0 = 0\n",
    "\n",
    "# Orientation inputs (Controller Base Orientation + Robot Base Orientation + Cordinate rotation from controller to robot)\n",
    "\n",
    "# Input Controller Base Orientation\n",
    "# state: loc[0:3], axis[3:6], angle[6], buttonss...\n",
    "# axis is in left handed coordinate system\n",
    "data, addr = sock.recvfrom(1024) # buffer size is 1024 bytes\n",
    "controller_state = [float(s) for s in data.split(',')]\n",
    "\n",
    "# to right hand\n",
    "controller_state[2] = -controller_state[2]\n",
    "controller_state[5] = -controller_state[5]\n",
    "controller_state[6] = -controller_state[6]*math.pi/180.0\n",
    "\n",
    "a = controller_state[0:3]\n",
    "con_base_ori_aangle = [i*controller_state[6] for i in controller_state[3:6]]\n",
    "con_base_ori = quaternion.axis_angle_to_quaternion(con_base_ori_aangle)\n",
    "\n",
    "# Input Robot Base Orientation\n",
    "rob_base_ori_aangle = [math.pi/2,0,0]\n",
    "\n",
    "# Input Coordinate rotation from controller to robot\n",
    "first_rot = quaternion.axis_angle_to_quaternion([0, math.pi, 0])\n",
    "second_rot = quaternion.axis_angle_to_quaternion([math.pi/2, 0, 0])\n",
    "\n",
    "\n",
    "# processing orientation inputs\n",
    "#con_base_ori = quaternion(b[3],b[0],b[1],b[2])\n",
    "rob_base_ori = quaternion.axis_angle_to_quaternion(rob_base_ori_aangle)\n",
    "cor_rot = second_rot.multiply(first_rot)\n",
    "\n",
    "# location trnasformation \n",
    "rob_base_loc = [0.051, -0.749, 0.133] # communication to robot is in meters and radians\n",
    "con_base_loc = [a[0], a[1], a[2]] # communication with controller is in mm and rad\n",
    "scale = [1, 1, 1]\n",
    "tr = deltaTransform(con_base_loc, scale, rob_base_loc)\n",
    "print con_base_ori_aangle"
   ]
  },
  {
   "cell_type": "code",
   "execution_count": null,
   "metadata": {},
   "outputs": [],
   "source": [
    "#start data synchronization\n",
    "if not con.send_start():\n",
    "    sys.exit()\n",
    "\n",
    "# control loop\n",
    "while keep_running:\n",
    "    # receive the current state\n",
    "    state = con.receive()\n",
    "    \n",
    "    if state is None:\n",
    "        break;\n",
    "    \n",
    "    data, addr = sock.recvfrom(1024) # buffer size is 1024 bytes\n",
    "    controller_state = [float(s) for s in data.split(',')]\n",
    "    # get new setp\n",
    "    # Controller Current Orientation in Controller cordinates\n",
    "    # to right hand\n",
    "    controller_state[2] = -controller_state[2]\n",
    "    controller_state[5] = -controller_state[5]\n",
    "    controller_state[6] = -controller_state[6]*math.pi/180.0\n",
    "\n",
    "    con_loc = controller_state[0:3]\n",
    "    con_ori_aangle = [i*controller_state[6] for i in controller_state[3:6]]\n",
    "    con_ori = quaternion.axis_angle_to_quaternion(con_ori_aangle)\n",
    "    \n",
    "    # get delta in controller coordinates(rotation between current and base orientation of the controller)\n",
    "    con_delta_rot = con_ori.delta(con_base_ori)\n",
    "    con_delta_rot_aangle = con_delta_rot.to_axis_angle()\n",
    "    \n",
    "    # Get desired delta in robot coordinate\n",
    "    delta_in_rob_cor_aangle = cor_rot.rotate_vector(con_delta_rot_aangle)\n",
    "    delta_in_rob_cor = quaternion.axis_angle_to_quaternion(delta_in_rob_cor_aangle)\n",
    "    \n",
    "    # get current robot orientation\n",
    "    rob_ori = delta_in_rob_cor.multiply(rob_base_ori)\n",
    "    \n",
    "    new_setp = tr.doTransform([con_loc[0], con_loc[1], con_loc[2]]) + rob_ori.to_axis_angle()\n",
    "    list_to_setp(setp, new_setp)\n",
    "    \n",
    "    # send new setpoint        \n",
    "    con.send(setp)\n",
    "    \n",
    "    # Get button data\n",
    "    new_button = [0, 0]\n",
    "    if controller_state[7] > 0:\n",
    "            new_button[0] = 1\n",
    "    if controller_state[8] > 0:\n",
    "            new_button[1] = 1\n",
    "    list_to_button(button, new_button)\n",
    "    \n",
    "    # Send button data\n",
    "    con.send(button)\n",
    "    \n",
    "    # kick watchdog\n",
    "    con.send(watchdog)"
   ]
  },
  {
   "cell_type": "code",
   "execution_count": null,
   "metadata": {},
   "outputs": [],
   "source": [
    "data, addr = sock.recvfrom(1024) # buffer size is 1024 bytes\n",
    "controller_state = [float(s) for s in data.split(',')]\n",
    "controller_state[2] = -controller_state[2]\n",
    "controller_state[5] = -controller_state[5]\n",
    "controller_state[6] = controller_state[6]*math.pi/180.0\n",
    "\n",
    "con_loc = controller_state[0:3]\n",
    "con_ori_aangle = [i*controller_state[6] for i in controller_state[3:6]]\n",
    "con_ori = quaternion.axis_angle_to_quaternion(con_ori_aangle)\n",
    "\n",
    "print con_delta_rot.to_axis_angle()\n",
    "\n",
    "con_delta_rot = con_ori.delta(con_base_ori)\n",
    "con_delta_rot_aangle = con_delta_rot.to_axis_angle()\n",
    "print con_delta_rot_aangle\n",
    "    \n",
    "# Get delta in robot coordinate\n",
    "delta_in_rob_cor_aangle = cor_rot.rotate_vector(con_delta_rot_aangle)\n",
    "delta_in_rob_cor = quaternion.axis_angle_to_quaternion(delta_in_rob_cor_aangle)\n",
    "print delta_in_rob_cor_aangle\n",
    "    \n",
    "# get current robot orientation\n",
    "rob_ori = delta_in_rob_cor.multiply(rob_base_ori)\n",
    "print rob_ori.to_axis_angle()"
   ]
  },
  {
   "cell_type": "code",
   "execution_count": null,
   "metadata": {},
   "outputs": [],
   "source": [
    "con.send_pause()\n",
    "con.disconnect()\n",
    "sys.stdout.flush()"
   ]
  },
  {
   "cell_type": "code",
   "execution_count": null,
   "metadata": {},
   "outputs": [],
   "source": []
  }
 ],
 "metadata": {
  "kernelspec": {
   "display_name": "Python 2",
   "language": "python",
   "name": "python2"
  },
  "language_info": {
   "codemirror_mode": {
    "name": "ipython",
    "version": 2
   },
   "file_extension": ".py",
   "mimetype": "text/x-python",
   "name": "python",
   "nbconvert_exporter": "python",
   "pygments_lexer": "ipython2",
   "version": "2.7.15"
  }
 },
 "nbformat": 4,
 "nbformat_minor": 2
}
