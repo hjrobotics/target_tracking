{
 "cells": [
  {
   "cell_type": "code",
   "execution_count": 9,
   "metadata": {},
   "outputs": [],
   "source": [
    "import sys\n",
    "sys.path.append('../library')\n",
    "sys.path.append('../library/rtde')\n",
    "import logging\n",
    "import rtde.rtde as rtde\n",
    "import rtde.rtde_config as rtde_config\n",
    "import time\n",
    "import math\n",
    "import subprocess\n",
    "import os\n",
    "import ovr\n",
    "from quaternion import quaternion\n",
    "import keyboard\n",
    "\n",
    "ovr.initialize(None)\n",
    "session, luid = ovr.create()\n"
   ]
  },
  {
   "cell_type": "code",
   "execution_count": null,
   "metadata": {},
   "outputs": [],
   "source": [
    "#logging.basicConfig(level=logging.INFO)\n",
    "\n",
    "ROBOT_HOST = '192.168.188.123'\n",
    "ROBOT_PORT = 30004\n",
    "config_filename = '../config/pose_pilot_configuration_with_button.xml'\n",
    "\n",
    "keep_running = True\n",
    "logging.getLogger().setLevel(logging.INFO)"
   ]
  },
  {
   "cell_type": "code",
   "execution_count": null,
   "metadata": {},
   "outputs": [],
   "source": [
    "conf = rtde_config.ConfigFile(config_filename)\n",
    "state_names, state_types = conf.get_recipe('state')\n",
    "setp_names, setp_types = conf.get_recipe('setp')\n",
    "watchdog_names, watchdog_types = conf.get_recipe('watchdog')\n",
    "button_names, button_types = conf.get_recipe('button')"
   ]
  },
  {
   "cell_type": "code",
   "execution_count": null,
   "metadata": {},
   "outputs": [],
   "source": [
    "con = rtde.RTDE(ROBOT_HOST, ROBOT_PORT)\n",
    "con.connect()\n",
    "\n",
    "# get controller version\n",
    "con.get_controller_version()\n",
    "\n",
    "# setup recipes\n",
    "con.send_output_setup(state_names, state_types)\n",
    "setp = con.send_input_setup(setp_names, setp_types)\n",
    "watchdog = con.send_input_setup(watchdog_names, watchdog_types)\n",
    "button = con.send_input_setup(button_names, button_types)"
   ]
  },
  {
   "cell_type": "code",
   "execution_count": 2,
   "metadata": {},
   "outputs": [],
   "source": [
    "class deltaTransform:\n",
    "    def __init__(self, original_base, scale, target_base):\n",
    "        self.o_base = original_base\n",
    "        self.scale = scale\n",
    "        self.t_base = target_base\n",
    "        \n",
    "    def doTransform(self, original_point):\n",
    "        # scale and original point delta\n",
    "        scaled_point = [s*(o-b) for s, b , o in zip(self.scale, self.o_base, original_point)]\n",
    "        # transform cartesians\n",
    "        # TODO: make it general, this only works to swap y and z\n",
    "        scaled_point[1], scaled_point[2] = -scaled_point[2], scaled_point[1]\n",
    "        \n",
    "        t_point = [t+s for t, s in zip(self.t_base, scaled_point)]\n",
    "        return t_point"
   ]
  },
  {
   "cell_type": "code",
   "execution_count": 3,
   "metadata": {},
   "outputs": [],
   "source": [
    "def setp_to_list(setp):\n",
    "    list = []\n",
    "    for i in range(0,6):\n",
    "        list.append(setp.__dict__[\"input_double_register_%i\" % i])\n",
    "    return list\n",
    "\n",
    "def list_to_setp(setp, list):\n",
    "    for i in range (0,6):\n",
    "        setp.__dict__[\"input_double_register_%i\" % i] = list[i]\n",
    "    return setp\n",
    "\n",
    "def button_to_list(button):\n",
    "    list = []\n",
    "    for i in range(0,2):\n",
    "        list.append(button.__dict__[\"input_int_register_%i\" % (i+1)])\n",
    "    return list\n",
    "\n",
    "def list_to_button(button, list):\n",
    "    for i in range (0,2):\n",
    "        button.__dict__[\"input_int_register_%i\" % (i+1)] = list[i]\n",
    "    return button"
   ]
  },
  {
   "cell_type": "code",
   "execution_count": 8,
   "metadata": {},
   "outputs": [
    {
     "ename": "NameError",
     "evalue": "name 'session' is not defined",
     "output_type": "error",
     "traceback": [
      "\u001b[1;31m---------------------------------------------------------------------------\u001b[0m",
      "\u001b[1;31mNameError\u001b[0m                                 Traceback (most recent call last)",
      "\u001b[1;32m<ipython-input-8-f445814038c4>\u001b[0m in \u001b[0;36m<module>\u001b[1;34m()\u001b[0m\n\u001b[0;32m     18\u001b[0m \u001b[1;33m\u001b[0m\u001b[0m\n\u001b[0;32m     19\u001b[0m \u001b[1;31m# # Input Controller Base Orientation\u001b[0m\u001b[1;33m\u001b[0m\u001b[1;33m\u001b[0m\u001b[0m\n\u001b[1;32m---> 20\u001b[1;33m \u001b[0mts\u001b[0m  \u001b[1;33m=\u001b[0m \u001b[0movr\u001b[0m\u001b[1;33m.\u001b[0m\u001b[0mgetTrackingState\u001b[0m\u001b[1;33m(\u001b[0m\u001b[0msession\u001b[0m\u001b[1;33m,\u001b[0m \u001b[0movr\u001b[0m\u001b[1;33m.\u001b[0m\u001b[0mgetTimeInSeconds\u001b[0m\u001b[1;33m(\u001b[0m\u001b[1;33m)\u001b[0m\u001b[1;33m,\u001b[0m \u001b[0mTrue\u001b[0m\u001b[1;33m)\u001b[0m\u001b[1;33m\u001b[0m\u001b[0m\n\u001b[0m\u001b[0;32m     21\u001b[0m \u001b[1;33m\u001b[0m\u001b[0m\n\u001b[0;32m     22\u001b[0m \u001b[1;31m# Input Robot Base Orientation\u001b[0m\u001b[1;33m\u001b[0m\u001b[1;33m\u001b[0m\u001b[0m\n",
      "\u001b[1;31mNameError\u001b[0m: name 'session' is not defined"
     ]
    }
   ],
   "source": [
    "# # Initialization\n",
    "# # setp\n",
    "# setp.input_double_register_0 = 0\n",
    "# setp.input_double_register_1 = 0\n",
    "# setp.input_double_register_2 = 0\n",
    "# setp.input_double_register_3 = 0\n",
    "# setp.input_double_register_4 = 0\n",
    "# setp.input_double_register_5 = 0\n",
    "\n",
    "# # button\n",
    "# button.input_int_register_1 = 0\n",
    "# button.input_int_register_2 = 0\n",
    "  \n",
    "# # The function \"rtde_set_watchdog\" in the \"rtde_control_loop.urp\" creates a 1 Hz watchdog\n",
    "# watchdog.input_int_register_0 = 0\n",
    "\n",
    "# # Orientation inputs (Controller Base Orientation + Robot Base Orientation + Cordinate rotation from controller to robot)\n",
    "\n",
    "# # Input Controller Base Orientation\n",
    "ts  = ovr.getTrackingState(session, ovr.getTimeInSeconds(), True)\n",
    "\n",
    "# Input Robot Base Orientation\n",
    "rob_base_ori_aangle = [math.pi/2,0,0]\n",
    "\n",
    "# Input Coordinate rotation from controller to robot\n",
    "cor_rot_aangle = [math.pi/2,0,0]\n",
    "\n",
    "# processing orientation inputs\n",
    "Rtouch = ts.HandPoses[1]\n",
    "a = Rtouch.ThePose.Position   \n",
    "b = Rtouch.ThePose.Orientation\n",
    "con_base_ori = quaternion(b[3],b[0],b[1],b[2])\n",
    "rob_base_ori = quaternion.axis_angle_to_quaternion(rob_base_ori_aangle)\n",
    "cor_rot = quaternion.axis_angle_to_quaternion(cor_rot_aangle)\n",
    "\n",
    "# location trnasformation \n",
    "rob_base_loc = [0.13, -0.61, 0.30] # communication to robot is in meters and radians\n",
    "con_base_loc = [a[0], a[1], a[2]] # communication with controller is in mm and rad\n",
    "scale = [1, 1, 1]\n",
    "tr = deltaTransform(con_base_loc, scale, rob_base_loc)"
   ]
  },
  {
   "cell_type": "code",
   "execution_count": null,
   "metadata": {},
   "outputs": [],
   "source": [
    "#start data synchronization\n",
    "if not con.send_start():\n",
    "    sys.exit()\n",
    "\n",
    "# control loop\n",
    "while keep_running:\n",
    "    # receive the current state\n",
    "    state = con.receive()\n",
    "    \n",
    "    if state is None:\n",
    "        break;\n",
    "    \n",
    "    # get new setp\n",
    "    # Controller Current Orientation in Controller cordinates\n",
    "    ts  = ovr.getTrackingState(session, ovr.getTimeInSeconds(), True)\n",
    "    Rtouch = ts.HandPoses[1]\n",
    "    con_loc = Rtouch.ThePose.Position\n",
    "    con_ori = Rtouch.ThePose.Orientation\n",
    "    con_ori = quaternion(con_ori[3], con_ori[0], con_ori[1], con_ori[2])\n",
    "    \n",
    "    # get delta in controller coordinates(rotation between current and base orientation of the controller)\n",
    "    con_delta_rot = con_ori.delta(con_base_ori)\n",
    "    con_delta_rot_aangle = con_delta_rot.to_axis_angle()\n",
    "    \n",
    "    # Get delta in robot coordinate\n",
    "    delta_in_rob_cor_aangle = cor_rot.rotate_vector(con_delta_rot_aangle)\n",
    "    delta_in_rob_cor = quaternion.axis_angle_to_quaternion(delta_in_rob_cor_aangle)\n",
    "    \n",
    "    # get current robot orientation\n",
    "    rob_ori = delta_in_rob_cor.multiply(rob_base_ori)\n",
    "    \n",
    "    new_setp = tr.doTransform([con_loc[0], con_loc[1], con_loc[2]]) + rob_ori.to_axis_angle()\n",
    "    list_to_setp(setp, new_setp)\n",
    "    \n",
    "    # send new setpoint        \n",
    "    con.send(setp)\n",
    "    \n",
    "    # Get button data\n",
    "    new_button = [0, 0]\n",
    "    if keyboard.is_pressed('c'):\n",
    "            new_button[0] = 1\n",
    "    if keyboard.is_pressed('o'):\n",
    "            new_button[1] = 1\n",
    "    print(new_button)\n",
    "    list_to_button(button, new_button)\n",
    "    \n",
    "    # Send button data\n",
    "    con.send(button)\n",
    "    \n",
    "    # kick watchdog\n",
    "    con.send(watchdog)"
   ]
  },
  {
   "cell_type": "code",
   "execution_count": null,
   "metadata": {},
   "outputs": [],
   "source": [
    "con.send_pause()\n",
    "con.disconnect()\n",
    "sys.stdout.flush()\n",
    "ovr.destroy(session)\n",
    "ovr.shutdown()"
   ]
  },
  {
   "cell_type": "code",
   "execution_count": null,
   "metadata": {},
   "outputs": [],
   "source": [
    "sys.stdout.flush()\n",
    "ovr.destroy(session)\n",
    "ovr.shutdown()"
   ]
  },
  {
   "cell_type": "code",
   "execution_count": null,
   "metadata": {},
   "outputs": [],
   "source": []
  }
 ],
 "metadata": {
  "kernelspec": {
   "display_name": "Python 2",
   "language": "python",
   "name": "python2"
  },
  "language_info": {
   "codemirror_mode": {
    "name": "ipython",
    "version": 2
   },
   "file_extension": ".py",
   "mimetype": "text/x-python",
   "name": "python",
   "nbconvert_exporter": "python",
   "pygments_lexer": "ipython2",
   "version": "2.7.15"
  }
 },
 "nbformat": 4,
 "nbformat_minor": 2
}
