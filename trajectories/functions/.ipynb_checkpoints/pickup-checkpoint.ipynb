{
 "cells": [
  {
   "cell_type": "code",
   "execution_count": 1,
   "metadata": {},
   "outputs": [],
   "source": [
    "# if i is in bound return a proper list otherwise return false\n",
    "def cheese_pickup_from_stack(i, world, is_init):\n",
    "    goingInPointNum = 100\n",
    "    bringingUpPointNum = 20\n",
    "    goingInLength = 0.15\n",
    "    bringingUpLength = 0.05\n",
    "    if i < 0:\n",
    "        return False\n",
    "    if i >= (goingInPointNum + bringingUpPointNum):\n",
    "        return False\n",
    "    \n",
    "    pose = world.topCheeseSpatulaPose[:]\n",
    "    if i < goingInPointNum:\n",
    "        pose[2] = world.topCheeseSpatulaPose[2] - (world.totalCheeseNum - world.curCheeseNum + 1)*world.cheeseWidth \n",
    "        pose[1] = world.topCheeseSpatulaPose[1] - goingInLength*float(goingInPointNum - i)/float(goingInPointNum)\n",
    "    else: \n",
    "        j = i - goingInPointNum\n",
    "        pose[2] = world.topCheeseSpatulaPose[2] - (world.totalCheeseNum - world.curCheeseNum + 1)*world.cheeseWidth \\\n",
    "                                                + bringingUpLength*float(j)/float(bringingUpPointNum)\n",
    "        pose[1] = world.topCheeseSpatulaPose[1]\n",
    "        \n",
    "    is_free_driving = False\n",
    "    is_reaching = False\n",
    "    gripper_force = 10\n",
    "    gripper_loc = 100\n",
    "    gripper_speed = 100\n",
    "    \n",
    "    point = pose + [is_free_driving, is_reaching, gripper_force, gripper_loc, gripper_speed]\n",
    "    \n",
    "    return point\n",
    "\n",
    "def cheese_pickup_next_from_stack(i, world, is_init):\n",
    "    if is_init == True and world.pickingJustStarted == False:\n",
    "        world.cheesePicked()\n",
    "        world.pickingJustStarted = True\n",
    "    else:\n",
    "        world.pickingJustStarted = False\n",
    "        \n",
    "    return cheese_pickup_from_stack(i, world, False)\n",
    "\n",
    "def patty_pickup_from_stack(i, obj):\n",
    "    return 2*i"
   ]
  }
 ],
 "metadata": {
  "kernelspec": {
   "display_name": "Python 2",
   "language": "python",
   "name": "python2"
  },
  "language_info": {
   "codemirror_mode": {
    "name": "ipython",
    "version": 2
   },
   "file_extension": ".py",
   "mimetype": "text/x-python",
   "name": "python",
   "nbconvert_exporter": "python",
   "pygments_lexer": "ipython2",
   "version": "2.7.15"
  }
 },
 "nbformat": 4,
 "nbformat_minor": 2
}
