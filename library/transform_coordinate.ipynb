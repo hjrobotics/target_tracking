{
 "cells": [
  {
   "cell_type": "code",
   "execution_count": null,
   "metadata": {},
   "outputs": [],
   "source": [
    "import quaternion\n",
    "class transform_coordinate:\n",
    "    # l0 is the base location (x0, y0, z0) of the new coordinate based on the old one\n",
    "    # ori0 is the quaternion of the new coordinate in old coordinate\n",
    "    def __init__ (self, l0, ori0):\n",
    "        assert len(l) == 3\n",
    "        assert type(q0) == \"quaternion\"\n",
    "        self.l0 = l0\n",
    "        self.ori0 = ori0\n",
    "    \n",
    "    def to_new(self, l, ori):\n",
    "        assert len(l) == 3\n",
    "        assert type(ori) == \"quaternion\"\n",
    "        \n",
    "        ori0_neg = self.ori0.conjugate()\n",
    "        \n",
    "        dl_old_cor = [x-x0 for x, x0 in zip(l, self.l0)]\n",
    "        dl_new_cor = ori0_neg.rotate_vector(dl_old_cor)\n",
    "        \n",
    "        dori_old_cor = ori.delta(self.ori0)\n",
    "        dori_old_cor_aangle = dori_old_cor.to_axis_angle()\n",
    "        dori_new_cor_aangle = ori0_neg.rotate_vector(dori_old_cor_aangle)\n",
    "        dori_new_cor = quaternion.axis_angle_to_quaternion(dori_new_cor_aangle)\n",
    "        \n",
    "        return dl_new_cor, dori_new_cor\n",
    "    \n",
    "    def to_old(self, l, ori):\n",
    "        assert len(l) == 3\n",
    "        assert type(ori) == \"quaternion\"\n",
    "        \n",
    "        dl_old_cor = self.ori0.rotate_vector(l)\n",
    "        l_old_cor = [x+x0 for x, x0 in zip(dl_old_cor, self.l0)]\n",
    "        \n",
    "        ori_aangle = ori.to_axis_angle()\n",
    "        dori_old_cor_aangle = self.ori0.rotate_vector(ori_aangle)\n",
    "        dori_old_cor = quaternion.axis_angle_to_quaternion(dori_old_cor_aangle)\n",
    "        ori_old_cor = dori_old_cor.multiply(self.ori0)\n",
    "        \n",
    "        return l_old_cor, ori_old_cor"
   ]
  }
 ],
 "metadata": {
  "kernelspec": {
   "display_name": "Python 2",
   "language": "python",
   "name": "python2"
  },
  "language_info": {
   "codemirror_mode": {
    "name": "ipython",
    "version": 2
   },
   "file_extension": ".py",
   "mimetype": "text/x-python",
   "name": "python",
   "nbconvert_exporter": "python",
   "pygments_lexer": "ipython2",
   "version": "2.7.15"
  }
 },
 "nbformat": 4,
 "nbformat_minor": 2
}
